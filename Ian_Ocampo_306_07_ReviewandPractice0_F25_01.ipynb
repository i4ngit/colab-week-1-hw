{
  "cells": [
    {
      "cell_type": "markdown",
      "metadata": {
        "id": "view-in-github",
        "colab_type": "text"
      },
      "source": [
        "<a href=\"https://colab.research.google.com/github/i4ngit/colab-week-1-hw/blob/main/Ian_Ocampo_306_07_ReviewandPractice0_F25_01.ipynb\" target=\"_parent\"><img src=\"https://colab.research.google.com/assets/colab-badge.svg\" alt=\"Open In Colab\"/></a>"
      ]
    },
    {
      "cell_type": "code",
      "source": [
        "# Start writing code here..."
      ],
      "metadata": {
        "tags": [],
        "cell_id": "3d5987795e4d45e792a94f267999f9b6",
        "source_hash": "8ad57f32",
        "output_cleared": false,
        "execution_start": 1680798324675,
        "execution_millis": 3,
        "deepnote_to_be_reexecuted": false,
        "deepnote_cell_type": "code",
        "id": "FUlSx_dB5CuH"
      },
      "outputs": [],
      "execution_count": null
    },
    {
      "cell_type": "code",
      "source": [
        "# You can duplicate this notebook to run the cells and practice with the code!"
      ],
      "metadata": {
        "id": "qVaLvkkfKcah"
      },
      "execution_count": null,
      "outputs": []
    },
    {
      "cell_type": "code",
      "source": [
        "# note: Tuesdays 1-2 pm (in-person HH 520) Mark"
      ],
      "metadata": {
        "id": "4gQnZIwlFb5l"
      },
      "execution_count": null,
      "outputs": []
    },
    {
      "cell_type": "markdown",
      "source": [
        "# CSC 306 Review 0"
      ],
      "metadata": {
        "tags": [],
        "cell_id": "3ac3008656ef4fed89983f9f72b9b9a9",
        "deepnote_cell_height": 69.96875,
        "deepnote_cell_type": "markdown",
        "id": "AgCkvPga5CuI"
      }
    },
    {
      "cell_type": "markdown",
      "source": [
        "# Variables are nicknames we give our data"
      ],
      "metadata": {
        "tags": [],
        "cell_id": "10a80e8c58984304856493ec2aca9364",
        "deepnote_cell_height": 61.953125,
        "deepnote_cell_type": "markdown",
        "id": "mPqgLy-I5CuK"
      }
    },
    {
      "cell_type": "code",
      "source": [
        "#   the = is our assignment operator\n",
        "apple = 1\n",
        "orange = 2\n",
        "\n",
        "print(apple + orange)\n"
      ],
      "metadata": {
        "tags": [],
        "cell_id": "0c9e87b262774dad92e93eef46a31aae",
        "source_hash": "b623e53d",
        "output_cleared": false,
        "execution_start": 1680798324674,
        "execution_millis": 3,
        "deepnote_to_be_reexecuted": false,
        "deepnote_cell_type": "code",
        "id": "crUSci7n5CuK",
        "colab": {
          "base_uri": "https://localhost:8080/"
        },
        "outputId": "a4010cdc-dad7-498f-ef75-3987724ccae3"
      },
      "outputs": [
        {
          "output_type": "stream",
          "name": "stdout",
          "text": [
            "3\n"
          ]
        }
      ],
      "execution_count": 1
    },
    {
      "cell_type": "code",
      "source": [
        "int_var = 10 # integer\n",
        "float_var = 5.5 # float\n",
        "name_var = \"Fred\" # string\n",
        "\n",
        "ten = 10.0\n",
        "print(type(ten))"
      ],
      "metadata": {
        "id": "WXPFMSfQ7Wm_",
        "colab": {
          "base_uri": "https://localhost:8080/"
        },
        "outputId": "7cdbe354-a5ef-424c-d95b-d0c714527c27"
      },
      "execution_count": 2,
      "outputs": [
        {
          "output_type": "stream",
          "name": "stdout",
          "text": [
            "<class 'float'>\n"
          ]
        }
      ]
    },
    {
      "cell_type": "code",
      "source": [
        "print(int_var)\n",
        "print(float_var)\n",
        "print(name_var)\n",
        "\n",
        "# or could also do this:\n",
        "print(\"all three in one line:\", int_var, float_var, name_var)\n"
      ],
      "metadata": {
        "id": "wKG24lsq869Y",
        "colab": {
          "base_uri": "https://localhost:8080/"
        },
        "outputId": "2834f2a7-91d3-46ba-eb55-2accbc62e970"
      },
      "execution_count": 3,
      "outputs": [
        {
          "output_type": "stream",
          "name": "stdout",
          "text": [
            "10\n",
            "5.5\n",
            "Fred\n",
            "all three in one line: 10 5.5 Fred\n"
          ]
        }
      ]
    },
    {
      "cell_type": "markdown",
      "source": [
        "# Let's review a few things about some basic python types: ints, floats, strings, lists, and booleans"
      ],
      "metadata": {
        "tags": [],
        "cell_id": "139dc1c24ec9491487736d5b9d1af049",
        "deepnote_cell_height": 109.96875,
        "deepnote_cell_type": "markdown",
        "id": "9qX0Nv945CuK"
      }
    },
    {
      "cell_type": "markdown",
      "source": [
        "### Numbers (ints and floats)"
      ],
      "metadata": {
        "tags": [],
        "cell_id": "7db7bdc6bfc240a5922b3799bdefaf2b",
        "deepnote_cell_height": 61.953125,
        "deepnote_cell_type": "markdown",
        "id": "hOV5BMry5CuK"
      }
    },
    {
      "cell_type": "markdown",
      "source": [
        "* int: integers\n",
        "* float: \"floating point\" / decimal-point numbers\n",
        "\n",
        "#### Things we can do with numbers:\n",
        "| Operator    | Description ||\n",
        "| ----------- | ----------- |---|\n",
        "| `x+y`           | Addition    ||\n",
        "| `x-y`           | Subtraction ||\n",
        "| `x*y`           | Multiplication ||\n",
        "| `x/y`           | Division    ||\n",
        "| `x//y`           | \"Floored\" Division    ||\n",
        "| `x%y`           | Remainder / \"Modulus\" |only for int|\n",
        "| `x**y`          | x to the Power y |\n",
        "\n"
      ],
      "metadata": {
        "tags": [],
        "cell_id": "ce3da277fb8b4441b2c92fe624756bab",
        "deepnote_cell_height": 325.796875,
        "deepnote_cell_type": "markdown",
        "id": "XRkb0OQ15CuK"
      }
    },
    {
      "cell_type": "code",
      "source": [
        "x = 4\n",
        "y = 8\n",
        "\n",
        "print('addition', x, y, x+y, 'y', 'x')\n",
        "print('subtraction', x-y)\n",
        "print('multiplication', x*y)\n",
        "print('division', x/y)\n",
        "print('floored division', x//y) # rounding down\n",
        "print('remainder', x%y)\n",
        "print('exponents', x**y)\n"
      ],
      "metadata": {
        "tags": [],
        "cell_id": "3ebea6f67735487c9068b29f1803e463",
        "source_hash": "b81f2ad7",
        "output_cleared": false,
        "execution_start": 1680798324681,
        "execution_millis": 4,
        "deepnote_to_be_reexecuted": false,
        "deepnote_cell_type": "code",
        "id": "ishjqOb_5CuL",
        "colab": {
          "base_uri": "https://localhost:8080/"
        },
        "outputId": "e9428463-f87d-496b-ca9f-49afe6d4d581"
      },
      "outputs": [
        {
          "output_type": "stream",
          "name": "stdout",
          "text": [
            "addition 4 8 12 y x\n",
            "subtraction -4\n",
            "multiplication 32\n",
            "division 0.5\n",
            "floored division 0\n",
            "remainder 4\n",
            "exponents 65536\n"
          ]
        }
      ],
      "execution_count": 4
    },
    {
      "cell_type": "markdown",
      "source": [
        "## Sequences (strings and lists)"
      ],
      "metadata": {
        "tags": [],
        "cell_id": "9b33991d3d9147e284c09df1dce084cb",
        "deepnote_cell_height": 69.96875,
        "deepnote_cell_type": "markdown",
        "id": "vQxhSQ1e5CuL"
      }
    },
    {
      "cell_type": "markdown",
      "source": [
        "| Type | What is it? | How to define |\n",
        "|------|-------------|---------------|\n",
        "|String|A sequence of symbols (letters etc. - things on your keyboard)| `my_string='hellohello'`|\n",
        "| List|A sequence of any python data type|`my_list=['a', 'b', 'c']`|\n",
        "\n",
        "#### Most important things to remember for now:\n",
        "* you can get the length of a string or list like `len(my_string)` or `len(my_list)`\n",
        "* you can access a single symbol in a string or element in a list by its **index** like `my_string[4]` or `my_list[4]`\n",
        "* you can **slice** a part of a string or list from an existing string or list like `my_string[x:y]` or `my_list[x:y]`\n",
        "    * for example, `my_string[5:8]` this will give the substring containing the symbols at index 5, index 6, and index 7 (but not index 8)\n",
        "* you can reverse a string or list like `my_string[::-1]` or `my_list[::-1]`\n",
        "* you can add strings or lists together with +\n"
      ],
      "metadata": {
        "tags": [],
        "cell_id": "a0c23c848ead4cb1be9f70613604cf28",
        "deepnote_cell_height": 313.453125,
        "deepnote_cell_type": "markdown",
        "id": "DwIUqjSz5CuL"
      }
    },
    {
      "cell_type": "markdown",
      "source": [
        "We index by adding square brackets [] right after a string. **Python indexing starts with 0** instead of 1."
      ],
      "metadata": {
        "tags": [],
        "cell_id": "2732c68421134751be3bb97219c09488",
        "deepnote_cell_height": 52.359375,
        "deepnote_cell_type": "markdown",
        "id": "GPDXZcp85CuL"
      }
    },
    {
      "cell_type": "markdown",
      "source": [
        "```\n",
        "some_string: a b c d e f g h i j\n",
        "Index:       0 1 2 3 4 5 6 7 8 9\n",
        "```\n",
        "\n",
        "**To Do:** In the cell below, print the first letter of the string 'some_string', using [0] as the index."
      ],
      "metadata": {
        "tags": [],
        "cell_id": "2b440b83b62a450eab5c59cdcf390c71",
        "deepnote_cell_height": 113.953125,
        "deepnote_cell_type": "markdown",
        "id": "sVNm6tFL5CuL"
      }
    },
    {
      "cell_type": "code",
      "source": [
        "some_string='hellohello'"
      ],
      "metadata": {
        "tags": [],
        "cell_id": "109b1f8aa1d641ee98f2790c74951460",
        "source_hash": "b623e53d",
        "output_cleared": false,
        "execution_start": 1680798324684,
        "execution_millis": 0,
        "deepnote_to_be_reexecuted": false,
        "deepnote_cell_type": "code",
        "id": "GHYkNgTQ5CuL"
      },
      "outputs": [],
      "execution_count": null
    },
    {
      "cell_type": "code",
      "source": [
        "print(some_string[0]) # index"
      ],
      "metadata": {
        "tags": [],
        "cell_id": "8b91726099b34028ba06c5cf9dc02dc3",
        "source_hash": "b623e53d",
        "output_cleared": false,
        "execution_start": 1680798324687,
        "execution_millis": 0,
        "deepnote_to_be_reexecuted": false,
        "deepnote_cell_type": "code",
        "id": "WdYgOJY-5CuL"
      },
      "outputs": [],
      "execution_count": null
    },
    {
      "cell_type": "code",
      "source": [
        "#strings\n",
        "a = 'hello'\n",
        "print('indexing our string', a[0], a[2])\n",
        "print('index our string and add them back together', a[2]+a[4]+a[3])\n",
        "print('we can use negative numbers to index from the back', a[-1], a[-3])\n",
        "\n",
        "print('HOW ABOUT SOME SLICING')\n",
        "print('a slice', a[1:4])\n",
        "b = ' my dear friend'\n",
        "print(a+b)\n"
      ],
      "metadata": {
        "tags": [],
        "cell_id": "406e7103650a49eb9039a9b8dd7b4373",
        "source_hash": "cb8667c3",
        "output_cleared": false,
        "execution_start": 1680798324692,
        "execution_millis": 3,
        "deepnote_to_be_reexecuted": false,
        "deepnote_cell_type": "code",
        "id": "RIMs57Qb5CuL"
      },
      "outputs": [],
      "execution_count": null
    },
    {
      "cell_type": "code",
      "source": [
        "# lists - similar with how we deal with strings\n",
        "L = ['a', 'b', 'c', 7]\n",
        "print('index our list', L[0], L[3])\n",
        "print('slice it', L[:2]) # # when you slice you get another list\n",
        "print('reverse it', L[::-1])\n",
        "print(L+L)"
      ],
      "metadata": {
        "tags": [],
        "cell_id": "860f311cde404f80810d626e73112a5e",
        "source_hash": "218c44e2",
        "output_cleared": false,
        "execution_start": 1680798324699,
        "execution_millis": 8,
        "deepnote_to_be_reexecuted": false,
        "deepnote_cell_type": "code",
        "id": "g7oCQ0MO5CuM",
        "colab": {
          "base_uri": "https://localhost:8080/"
        },
        "outputId": "a77b9ab6-8bb4-4bd4-84a8-96dc96cf87b8"
      },
      "outputs": [
        {
          "output_type": "stream",
          "name": "stdout",
          "text": [
            "index our list a 7\n",
            "slice it ['a', 'b']\n",
            "reverse it [7, 'c', 'b', 'a']\n",
            "['a', 'b', 'c', 7, 'a', 'b', 'c', 7]\n"
          ]
        }
      ],
      "execution_count": 5
    },
    {
      "cell_type": "code",
      "source": [],
      "metadata": {
        "id": "4krpAZXvec5R"
      },
      "execution_count": null,
      "outputs": []
    },
    {
      "cell_type": "code",
      "source": [
        "L = ['a', 'b', 'c', 7]\n",
        "print(L)"
      ],
      "metadata": {
        "id": "-_L3aYHa6kuY"
      },
      "execution_count": null,
      "outputs": []
    },
    {
      "cell_type": "code",
      "source": [
        "print('reverse it', L[::-1]) # this is start:stop:step/skip"
      ],
      "metadata": {
        "id": "KvbL91cy6jKR"
      },
      "execution_count": null,
      "outputs": []
    },
    {
      "cell_type": "code",
      "source": [
        "L[-1] # indexing"
      ],
      "metadata": {
        "id": "tiILZvct6sTh",
        "colab": {
          "base_uri": "https://localhost:8080/"
        },
        "outputId": "f4888f51-8362-444c-c084-9dbfeccce622"
      },
      "execution_count": 6,
      "outputs": [
        {
          "output_type": "execute_result",
          "data": {
            "text/plain": [
              "7"
            ]
          },
          "metadata": {},
          "execution_count": 6
        }
      ]
    },
    {
      "cell_type": "markdown",
      "source": [
        "# **Practice 1**"
      ],
      "metadata": {
        "id": "cf7Z7XgbRKUx"
      }
    },
    {
      "cell_type": "code",
      "source": [
        "dna = 'ATCACGATGACGTGACGGATCGAGCAGTACGCCT'"
      ],
      "metadata": {
        "id": "MmxZDsmnfg2K"
      },
      "execution_count": 8,
      "outputs": []
    },
    {
      "cell_type": "code",
      "source": [
        "''' print the dna sequence '''\n",
        "print(dna)"
      ],
      "metadata": {
        "id": "qJWL-4sEbENg",
        "colab": {
          "base_uri": "https://localhost:8080/"
        },
        "outputId": "c87a1f1f-147c-4b4a-bd28-c28cdf7a2c3e"
      },
      "execution_count": 9,
      "outputs": [
        {
          "output_type": "stream",
          "name": "stdout",
          "text": [
            "ATCACGATGACGTGACGGATCGAGCAGTACGCCT\n"
          ]
        }
      ]
    },
    {
      "cell_type": "code",
      "source": [
        "'''print the first nucleotide in the DNA sequence'''\n",
        "# we can use idexing to print the first nucleotide of the DNA sequence! do print(variable name [range])\n",
        "print(dna[0]) # this means to print whatever the sequence starts, python idexing starts at 0!"
      ],
      "metadata": {
        "id": "XQRt-H8Jj1CL",
        "colab": {
          "base_uri": "https://localhost:8080/"
        },
        "outputId": "3bf603ee-995f-4c90-e250-ca50b767faac"
      },
      "execution_count": 16,
      "outputs": [
        {
          "output_type": "stream",
          "name": "stdout",
          "text": [
            "A\n"
          ]
        }
      ]
    },
    {
      "cell_type": "code",
      "source": [
        "''' print the last nucleotide in the DNA sequence'''\n",
        "\n",
        "# we can use reverse it by using negative integers to find the last nucleotide!\n",
        "\n",
        "print(dna[-1])"
      ],
      "metadata": {
        "id": "9CGARzYRj2BA",
        "colab": {
          "base_uri": "https://localhost:8080/"
        },
        "outputId": "e7a6cd91-b29a-4f21-e209-18a3720d1d5d"
      },
      "execution_count": 24,
      "outputs": [
        {
          "output_type": "stream",
          "name": "stdout",
          "text": [
            "T\n"
          ]
        }
      ]
    },
    {
      "cell_type": "code",
      "source": [
        "'''print the first codon of the DNA sequence'''\n",
        "# hint: a codon is three nucleotides long # slicing\n",
        "# expecting: ATC\n",
        "\n",
        "# slicing sequence[start:end:step]\n",
        "print(dna[0:2:1])"
      ],
      "metadata": {
        "id": "sHClNsQUj3Ho",
        "colab": {
          "base_uri": "https://localhost:8080/"
        },
        "outputId": "3bcf897e-a724-4a5e-cd37-b204fb686c5d"
      },
      "execution_count": 34,
      "outputs": [
        {
          "output_type": "stream",
          "name": "stdout",
          "text": [
            "AT\n"
          ]
        }
      ]
    },
    {
      "cell_type": "code",
      "source": [
        "'''print the last codon of the DNA sequence'''\n",
        "# cct\n",
        "\n"
      ],
      "metadata": {
        "id": "ZVGk-4UG1mFg"
      },
      "execution_count": null,
      "outputs": []
    },
    {
      "cell_type": "code",
      "source": [
        "''' find the length of our DNA string'''\n",
        "\n",
        "\n",
        "#hint: using the built-in python len function...."
      ],
      "metadata": {
        "id": "zNIYtV_Xfgyg"
      },
      "execution_count": null,
      "outputs": []
    },
    {
      "cell_type": "code",
      "source": [
        "''' find the number of possible codons in the dna sequence'''\n",
        "# hint: codon is 3 nucleotides\n",
        "\n",
        "print(int(len(dna)//3)) # use floor division\n",
        "\n",
        "# another way without int\n",
        "print(len(dna)//3) # this does not require to put integers in front!\n",
        "print(len(dna)/3) # this would have the output as decimals"
      ],
      "metadata": {
        "id": "ztMgW2T1ChOo",
        "colab": {
          "base_uri": "https://localhost:8080/"
        },
        "outputId": "0369e0e0-b508-43b9-a1e3-5dee5af89a51"
      },
      "execution_count": 38,
      "outputs": [
        {
          "output_type": "stream",
          "name": "stdout",
          "text": [
            "11\n",
            "11\n",
            "11.333333333333334\n"
          ]
        }
      ]
    },
    {
      "cell_type": "code",
      "source": [],
      "metadata": {
        "id": "yjp4syOY5caE"
      },
      "execution_count": null,
      "outputs": []
    },
    {
      "cell_type": "code",
      "source": [
        "# NOTE: no methods on the quiz\n",
        "# you don't ever need to memorize methods"
      ],
      "metadata": {
        "id": "xEnzoVCrGpPZ"
      },
      "execution_count": null,
      "outputs": []
    },
    {
      "cell_type": "markdown",
      "source": [
        "#Methods\n",
        "A method is a special kind of function - one that belongs to a specific class of objects. Methods usually perform specific tasks involving that type of object. Though all methods are functions, not all functions are methods. Python has a number of built-in methods on different objects in Python (such as strings and lists)"
      ],
      "metadata": {
        "id": "UdK_tdkE9OzS"
      }
    },
    {
      "cell_type": "markdown",
      "source": [
        "[Methods for strings](https://www.w3schools.com/python/python_strings_methods.asp)\n",
        "\n",
        "[Methods for lists](https://www.w3schools.com/python/python_lists_methods.asp)\n",
        "\n",
        "Check out more about the list method .append() [here](https://www.w3schools.com/python/ref_list_append.asp)"
      ],
      "metadata": {
        "id": "abaLcZF-9Rr5"
      }
    },
    {
      "cell_type": "code",
      "source": [
        "# using the list method .append() this will add an element to our list\n",
        "list1 = [1, 2, 3]\n",
        "list1.append('yay') # we want to add 'yay' to our list\n",
        "print(list1)\n",
        "print(len(list1)) # to get the length of the list"
      ],
      "metadata": {
        "id": "MDZFirJL9X2F"
      },
      "execution_count": null,
      "outputs": []
    },
    {
      "cell_type": "code",
      "source": [
        "astring = \"hello\"\n",
        "bstring = 'there'\n",
        "cstring = astring + ' ' + bstring\n",
        "print(cstring)"
      ],
      "metadata": {
        "id": "uVGyef5oG1SK"
      },
      "execution_count": null,
      "outputs": []
    },
    {
      "cell_type": "code",
      "source": [],
      "metadata": {
        "id": "4fNxnSYvHWUI"
      },
      "execution_count": null,
      "outputs": []
    },
    {
      "cell_type": "code",
      "source": [
        "# add methods for strings and lists\n",
        "astring = \"hello\"\n",
        "bstring = 'there'\n",
        "cstring = astring + bstring\n",
        "print(cstring)\n",
        "\n",
        "alist = []\n",
        "alist.append(astring)\n",
        "alist.append(bstring)\n",
        "print(alist)\n",
        "\n",
        "alist.append(astring)\n",
        "print(alist)\n",
        "\n",
        "print(alist * 4)"
      ],
      "metadata": {
        "id": "4v2P7EpZ4Zks"
      },
      "execution_count": null,
      "outputs": []
    },
    {
      "cell_type": "code",
      "source": [
        "alist = [] # empty string\n",
        "alist.append(astring)\n",
        "alist.append(bstring)\n",
        "print(alist)"
      ],
      "metadata": {
        "id": "21DkRvrSHEho"
      },
      "execution_count": null,
      "outputs": []
    },
    {
      "cell_type": "markdown",
      "source": [
        "# Booleans\n",
        "   * Only 2 possible values: True or False\n",
        "   * Can be created directly True/False\n",
        "   * Can be created by \"boolean expressions\" like 5 > 4\n",
        "   * Multiple boolean expressions can be combined by logic gates using and, or, and not.\n",
        "   * Other operators that can give you a boolean:\n",
        "        '>','<', '==', '!=', '>=', '<=', and in"
      ],
      "metadata": {
        "tags": [],
        "cell_id": "7eec97572e094f4d88b6e5fb4df0a04e",
        "deepnote_cell_height": 238.296875,
        "deepnote_cell_type": "markdown",
        "id": "zo_bl35w5CuM"
      }
    },
    {
      "cell_type": "markdown",
      "source": [
        "**Boolean Operators**\n",
        "\n",
        "**>** Greater than  \n",
        "**<** Less than  \n",
        "**>=** Greater than or equal to  \n",
        "**<=** Less than or equal to  \n",
        "**==** Equal to  \n",
        "**!=** Not equal to  \n",
        "\n",
        "Note that **==** is the logical equality operator, while **=** is the assignment operator. In other words: **==** is a **Question**, and **=** is a **statement**.\n",
        "\n",
        "**Logical Operators**\n",
        "**and**, **or**, and **not**\n",
        "\n",
        "What if we want to evaluate more than one **if** statement at once? The Boolean operators **and**, **or**, and **not** can help us out.\n",
        "\n",
        "The operator **and** will only return **True** if both accompanying statements are **True**, while **or** will return **True** if either accompanying statement is **True**. **not** returns the inverse of the logical value of the statement given."
      ],
      "metadata": {
        "tags": [],
        "cell_id": "972663755631402d9dd091a3715add79",
        "deepnote_cell_height": 391.078125,
        "deepnote_cell_type": "markdown",
        "id": "nx36itQP5CuM"
      }
    },
    {
      "cell_type": "markdown",
      "source": [
        "#### Logical Operators:\n",
        "| Operator    | Description ||\n",
        "| ----------- | ----------- |---|\n",
        "| `and`           | Returns True if **both** statements are true    ||\n",
        "| `or`           | Returns True if **one** of the statements is true ||\n",
        "| `not`           | Reverses the result, returns False if the result is true ||\n",
        "\n"
      ],
      "metadata": {
        "id": "IKSBtCKDfI6U"
      }
    },
    {
      "cell_type": "code",
      "source": [
        "'cat' in 'dogcatdog'"
      ],
      "metadata": {
        "tags": [],
        "cell_id": "36977565fb984d5398cbbc7696a99ce4",
        "source_hash": "5d659ca6",
        "output_cleared": false,
        "execution_start": 1662489777780,
        "execution_millis": 10,
        "deepnote_to_be_reexecuted": false,
        "deepnote_cell_type": "code",
        "id": "GlZ6y5LK2pyg",
        "colab": {
          "base_uri": "https://localhost:8080/"
        },
        "outputId": "881008bc-02d8-447f-9d76-d73bc04f53e1"
      },
      "outputs": [
        {
          "output_type": "execute_result",
          "data": {
            "text/plain": [
              "True"
            ]
          },
          "metadata": {},
          "execution_count": 39
        }
      ],
      "execution_count": 39
    },
    {
      "cell_type": "code",
      "source": [
        "True"
      ],
      "metadata": {
        "id": "eKj8Na_pnzRL",
        "colab": {
          "base_uri": "https://localhost:8080/"
        },
        "outputId": "1d7599e9-0645-4aa1-c065-61e34b80419f"
      },
      "execution_count": 40,
      "outputs": [
        {
          "output_type": "execute_result",
          "data": {
            "text/plain": [
              "True"
            ]
          },
          "metadata": {},
          "execution_count": 40
        }
      ]
    },
    {
      "cell_type": "code",
      "source": [
        "True\n",
        "print('directly type in Booleans', True, False)\n",
        "print('Can get them from comparison', 5<4)\n",
        "print('Force other data to be boolean', bool('this'), bool(3), bool(\"\"), bool(0))\n",
        "print('Can combine booleans using and or not gates', 3<4 and 5<4)\n"
      ],
      "metadata": {
        "tags": [],
        "cell_id": "7a2d0ab018664bec910888e884003c14",
        "source_hash": "7b5590b",
        "output_cleared": false,
        "execution_start": 1680798324745,
        "execution_millis": 1,
        "deepnote_to_be_reexecuted": false,
        "deepnote_cell_type": "code",
        "id": "yopMYR9k5CuM",
        "colab": {
          "base_uri": "https://localhost:8080/"
        },
        "outputId": "9c146afa-0cb0-49f7-9323-595853c3680b"
      },
      "outputs": [
        {
          "output_type": "stream",
          "name": "stdout",
          "text": [
            "directly type in Booleans True False\n",
            "Can get them from comparison False\n",
            "Force other data to be boolean True True False False\n",
            "Can combine booleans using and or not gates False\n"
          ]
        }
      ],
      "execution_count": 41
    },
    {
      "cell_type": "code",
      "source": [
        "# anticipate the output of the following:"
      ],
      "metadata": {
        "id": "gwM1QmShJflS"
      },
      "execution_count": 42,
      "outputs": []
    },
    {
      "cell_type": "code",
      "source": [
        "True and True"
      ],
      "metadata": {
        "id": "Wh4JiGJ_JS1N"
      },
      "execution_count": null,
      "outputs": []
    },
    {
      "cell_type": "code",
      "source": [
        "True and False"
      ],
      "metadata": {
        "id": "_Am16u7hJVWk"
      },
      "execution_count": null,
      "outputs": []
    },
    {
      "cell_type": "code",
      "source": [
        "True or True"
      ],
      "metadata": {
        "id": "hjdZ00k6JY7o"
      },
      "execution_count": null,
      "outputs": []
    },
    {
      "cell_type": "code",
      "source": [
        "True or False"
      ],
      "metadata": {
        "id": "Dn0tThUdJdQU"
      },
      "execution_count": null,
      "outputs": []
    },
    {
      "cell_type": "code",
      "source": [
        "True or True"
      ],
      "metadata": {
        "id": "nKwv8oRXovOE"
      },
      "execution_count": null,
      "outputs": []
    },
    {
      "cell_type": "code",
      "source": [
        "False or True"
      ],
      "metadata": {
        "id": "nnFlkt-9ovb7"
      },
      "execution_count": null,
      "outputs": []
    },
    {
      "cell_type": "code",
      "source": [
        "False or False"
      ],
      "metadata": {
        "id": "YsWVmCucoz_6"
      },
      "execution_count": null,
      "outputs": []
    },
    {
      "cell_type": "code",
      "source": [
        "not True"
      ],
      "metadata": {
        "id": "iVCRSBPaJkbp"
      },
      "execution_count": null,
      "outputs": []
    },
    {
      "cell_type": "markdown",
      "source": [
        "# Type function:\n",
        "If you are not sure what class/data type a vlaue falls into, Python has a function called ```type()``` which can tell you."
      ],
      "metadata": {
        "tags": [],
        "cell_id": "de570cf3402f4f1898b88360d4f2cbce",
        "deepnote_cell_height": 52.359375,
        "deepnote_cell_type": "markdown",
        "id": "eKIvBLFI5CuM"
      }
    },
    {
      "cell_type": "code",
      "source": [
        "print(\"Hello World\", type(\"Hello World\"))\n",
        "print(17, type(17))\n",
        "print(5.5, type(5.5))\n",
        "print(True, type(True))\n",
        "\n",
        "# type function means that it will tell us the type of the variable is; for instance, type(5.5) will tell us that it is a float"
      ],
      "metadata": {
        "tags": [],
        "cell_id": "5e08c5e769f7463b8da6c1ef0815eeec",
        "source_hash": "b0f8b35e",
        "output_cleared": false,
        "execution_start": 1680798324745,
        "execution_millis": 48,
        "deepnote_to_be_reexecuted": false,
        "deepnote_cell_type": "code",
        "id": "EfFuIZtS5CuM",
        "colab": {
          "base_uri": "https://localhost:8080/"
        },
        "outputId": "69686918-752e-40f3-9ca1-586d944f0f64"
      },
      "outputs": [
        {
          "output_type": "stream",
          "name": "stdout",
          "text": [
            "Hello World <class 'str'>\n",
            "17 <class 'int'>\n",
            "5.5 <class 'float'>\n",
            "True <class 'bool'>\n"
          ]
        }
      ],
      "execution_count": 43
    },
    {
      "cell_type": "code",
      "source": [
        "list1 = ['1', '2', 3, '4']\n",
        "print(list1, type(list1))"
      ],
      "metadata": {
        "cell_id": "aa6c48dd759d4b1f91c00e5fc8fdcd1d",
        "source_hash": "15f159b",
        "execution_start": 1682105916213,
        "execution_millis": 3,
        "deepnote_to_be_reexecuted": false,
        "deepnote_cell_type": "code",
        "id": "CHWHmHYp5CuM",
        "colab": {
          "base_uri": "https://localhost:8080/"
        },
        "outputId": "b8d8ce47-c10e-4cfc-e31a-f3f703cd2cf5"
      },
      "outputs": [
        {
          "output_type": "stream",
          "name": "stdout",
          "text": [
            "['1', '2', 3, '4'] <class 'list'>\n"
          ]
        }
      ],
      "execution_count": 44
    },
    {
      "cell_type": "code",
      "source": [
        "print(type(\"50\")) # this is a string\n",
        "print(type(int(\"50\"))) # casting, constructs an integer number\n",
        "\n",
        "# to cast can use:\n",
        "int()\n",
        "float()\n",
        "str()"
      ],
      "metadata": {
        "tags": [],
        "cell_id": "d83735e1539448009229002ce4718035",
        "source_hash": "bcfd23a9",
        "output_cleared": false,
        "execution_start": 1682106402270,
        "execution_millis": 1,
        "deepnote_to_be_reexecuted": false,
        "deepnote_cell_type": "code",
        "id": "mtT87gTy5CuM",
        "colab": {
          "base_uri": "https://localhost:8080/",
          "height": 71
        },
        "outputId": "5ba9d57c-3d04-4dc1-c805-5f78d354a67a"
      },
      "outputs": [
        {
          "output_type": "stream",
          "name": "stdout",
          "text": [
            "<class 'str'>\n",
            "<class 'int'>\n"
          ]
        },
        {
          "output_type": "execute_result",
          "data": {
            "text/plain": [
              "''"
            ],
            "application/vnd.google.colaboratory.intrinsic+json": {
              "type": "string"
            }
          },
          "metadata": {},
          "execution_count": 45
        }
      ],
      "execution_count": 45
    },
    {
      "cell_type": "code",
      "source": [],
      "metadata": {
        "tags": [],
        "cell_id": "b11979a614c3491985038cc461621bc1",
        "source_hash": "b623e53d",
        "output_cleared": false,
        "execution_start": 1680798324792,
        "execution_millis": 2,
        "deepnote_to_be_reexecuted": false,
        "deepnote_cell_type": "code",
        "id": "jcv84FkH5CuM"
      },
      "outputs": [],
      "execution_count": null
    },
    {
      "cell_type": "markdown",
      "source": [
        "# Conditionals\n",
        "Conditionals are `if` statements, which takes some boolean expression (e.g. an expression that evaluates to true or false) and \"if\" `True`, performs an action.\n",
        "\n",
        "More concisely, in Python syntax, it is:\n",
        "```\n",
        "if (...):\n",
        "    # do something\n",
        "elif (...):\n",
        "    # do something else\n",
        "else:\n",
        "    # do something else\n",
        "```"
      ],
      "metadata": {
        "tags": [],
        "cell_id": "de90466dffd643b79038cd411534a231",
        "deepnote_cell_height": 317.90625,
        "deepnote_cell_type": "markdown",
        "id": "g7c1vCSG5CuM"
      }
    },
    {
      "cell_type": "code",
      "source": [],
      "metadata": {
        "tags": [],
        "cell_id": "26b6661f155e47508b644611ebb90931",
        "source_hash": "b623e53d",
        "output_cleared": false,
        "execution_start": 1680798324797,
        "execution_millis": 1,
        "deepnote_to_be_reexecuted": false,
        "deepnote_cell_type": "code",
        "id": "5M8XE9sS5CuM"
      },
      "outputs": [],
      "execution_count": null
    },
    {
      "cell_type": "code",
      "source": [
        "print('out here')\n",
        "if 5<4:\n",
        "    print('in here')\n",
        "else:\n",
        "    print('in the else')\n",
        "print('ok back in the main flow')"
      ],
      "metadata": {
        "tags": [],
        "cell_id": "a3fc1c73e4b148f19ecdfde9f0b78a3b",
        "source_hash": "9a1d4db5",
        "output_cleared": false,
        "execution_start": 1680798324796,
        "execution_millis": 3,
        "deepnote_to_be_reexecuted": false,
        "deepnote_cell_type": "code",
        "id": "eiW3ahCM5CuM",
        "colab": {
          "base_uri": "https://localhost:8080/"
        },
        "outputId": "b497bfe6-7ab1-485c-ada8-a2be643977b0"
      },
      "outputs": [
        {
          "output_type": "stream",
          "name": "stdout",
          "text": [
            "out here\n",
            "in the else\n",
            "ok back in the main flow\n"
          ]
        }
      ],
      "execution_count": 46
    },
    {
      "cell_type": "code",
      "source": [
        "weather = input(\"What is the forecast for today? (rain/snow/sunny) \")\n",
        "if weather == \"rain\": # First condition\n",
        "    print(\"Remember your umbrella!\") # This block will run if the first condition is True\n",
        "elif weather == \"snow\":\n",
        "    print(\"Remember your gloves!\")\n",
        "else:\n",
        "    print(\"Remember your sunglasses\")\n",
        "\n",
        "# order is important in how they are evaluated!"
      ],
      "metadata": {
        "tags": [],
        "cell_id": "e5845aa80e9b4fe38d7dd3b5a5b21433",
        "source_hash": "171b4a07",
        "output_cleared": false,
        "deepnote_to_be_reexecuted": true,
        "deepnote_cell_type": "code",
        "id": "zAe9S7dS5CuM",
        "colab": {
          "base_uri": "https://localhost:8080/"
        },
        "outputId": "0006876f-dc21-47fd-9401-24547bd55a18"
      },
      "outputs": [
        {
          "output_type": "stream",
          "name": "stdout",
          "text": [
            "What is the forecast for today? (rain/snow/sunny) snow\n",
            "Remember your gloves!\n"
          ]
        }
      ],
      "execution_count": 51
    },
    {
      "cell_type": "code",
      "source": [
        "# maybe a better way to approach this:\n",
        "weather = input(\"What is the forecast for today? (rain/snow/sun/foggy) \")\n",
        "if weather == \"rain\":\n",
        "  print(\"Remember your umbrella\")\n",
        "elif weather == \"snow\":\n",
        "  print(\"Remember your gloves\")\n",
        "elif weather == 'sun':\n",
        "  print(\"Remember your sunglasses\")\n",
        "elif weather == 'foggy':\n",
        "  print(\"Remember your hoodie\")\n",
        "else: # catch all\n",
        "  print(\"Please enter one of the options above\") # else: our catch-all if the previous conditions were not met"
      ],
      "metadata": {
        "tags": [],
        "cell_id": "eceb2e8c75444a34b39e0031fe17f103",
        "source_hash": "b623e53d",
        "output_cleared": false,
        "execution_start": 1680798324809,
        "execution_millis": 3,
        "deepnote_to_be_reexecuted": false,
        "deepnote_cell_type": "code",
        "id": "LIJJ4D_-5CuM",
        "colab": {
          "base_uri": "https://localhost:8080/"
        },
        "outputId": "a671a20a-e835-44f8-c7d9-7ce3de4cf2de"
      },
      "outputs": [
        {
          "output_type": "stream",
          "name": "stdout",
          "text": [
            "What is the forecast for today? (rain/snow/sun/foggy)foggy\n",
            "Remember your hoodie\n"
          ]
        }
      ],
      "execution_count": 52
    },
    {
      "cell_type": "code",
      "source": [
        "requested_toppings = ['mushrooms', 'extra cheese']\n",
        "\n",
        "if 'mushrooms' in requested_toppings:\n",
        "    print(\"Adding mushrooms.\")\n",
        "if 'pepperoni' in requested_toppings:\n",
        "    print(\"Adding pepperoni.\")\n",
        "if 'extra cheese' in requested_toppings:\n",
        "    print(\"Adding extra cheese.\")\n",
        "\n",
        "print(\"Finished making your pizza!\")"
      ],
      "metadata": {
        "tags": [],
        "cell_id": "0cabee3e4fd04bb188f26fc6875c3fba",
        "source_hash": "593f1cec",
        "output_cleared": false,
        "execution_start": 1680798324811,
        "execution_millis": 8,
        "deepnote_to_be_reexecuted": false,
        "deepnote_cell_type": "code",
        "id": "NrKQ1FjE5CuM",
        "colab": {
          "base_uri": "https://localhost:8080/"
        },
        "outputId": "d67313a9-7a5c-46db-f569-3c285ceacd1c"
      },
      "outputs": [
        {
          "output_type": "stream",
          "name": "stdout",
          "text": [
            "Adding mushrooms.\n",
            "Adding extra cheese.\n",
            "Finished making your pizza!\n"
          ]
        }
      ],
      "execution_count": 53
    },
    {
      "cell_type": "code",
      "source": [
        "# what would happen if you used elif statements?\n",
        "requested_toppings = ['mushrooms', 'extra cheese', 'green peppers']\n",
        "\n",
        "if 'mushrooms' in requested_toppings:\n",
        "    print(\"Adding mushrooms.\")\n",
        "elif 'pepperoni' in requested_toppings:\n",
        "    print(\"Adding pepperoni.\")\n",
        "elif 'extra cheese' in requested_toppings:\n",
        "    print(\"Adding extra cheese.\")\n",
        "\n",
        "print(\"Finished making your pizza!\")\n",
        "\n",
        "# the output will not evaluate anything but the if statement, the two elif statement will be ignored if condition is true!"
      ],
      "metadata": {
        "id": "XG56s41476JK",
        "colab": {
          "base_uri": "https://localhost:8080/"
        },
        "outputId": "6c864275-a69f-4091-ba44-2bc5e7952b2d"
      },
      "execution_count": 54,
      "outputs": [
        {
          "output_type": "stream",
          "name": "stdout",
          "text": [
            "Adding mushrooms.\n",
            "Finished making your pizza!\n"
          ]
        }
      ]
    },
    {
      "cell_type": "code",
      "source": [
        "'''\n",
        "PRACTICE:\n",
        "Write a program that asks the user to enter a pH value (from 0 to 14).\n",
        "Then, classify the solution as:\n",
        "If the pH is below 7, print \"Acidic solution\"\n",
        "If the pH is exactly 7, print \"Neutral solution\"\n",
        "If the pH is above 7, print \"Basic solution\"\n",
        "'''"
      ],
      "metadata": {
        "id": "W9sPRKSOAfRY"
      },
      "execution_count": null,
      "outputs": []
    },
    {
      "cell_type": "code",
      "source": [
        "# greeting\n",
        "print(\"Hello, welcome to Chemistry! Today we'll be learning the concept of pH values and what it tell us!\")\n",
        "\n",
        "# asking students to enter a pH values from 0-14\n",
        "pH = float(input(\"can you enter a pH value from 0 to 14? \"))\n",
        "\n",
        "# conditional statement that would classify solution to basic, acidic, or neutral\n",
        "if pH == 7:\n",
        "  print('The solution is Neutral!')\n",
        "elif pH > 7:\n",
        "  print('The solution is Basic!')\n",
        "elif pH < 7:\n",
        "  print('The solution is Acidic!') # this could also be an else statement!\n",
        "\n",
        "# remember in the variable if it is float or integer"
      ],
      "metadata": {
        "id": "imQW81n-AgAS",
        "colab": {
          "base_uri": "https://localhost:8080/"
        },
        "outputId": "f2d85123-9995-4e6c-8501-05da52fc10e2"
      },
      "execution_count": 59,
      "outputs": [
        {
          "output_type": "stream",
          "name": "stdout",
          "text": [
            "Hello, welcome to Chemistry! Today we'll be learning the concept of pH values and what it tell us!\n",
            "can you enter a pH value from 0 to 14? 2\n",
            "The solution is Acidic!\n"
          ]
        }
      ]
    },
    {
      "cell_type": "markdown",
      "source": [
        "#Using a Counter"
      ],
      "metadata": {
        "id": "dBbS7kotBVhv"
      }
    },
    {
      "cell_type": "code",
      "source": [
        "# also known as the accumulator pattern"
      ],
      "metadata": {
        "id": "7q_lOcGs-oU9"
      },
      "execution_count": null,
      "outputs": []
    },
    {
      "cell_type": "code",
      "source": [
        "counter = 0\n",
        "for i in [1, 2, 3, 4, 5]:\n",
        "  counter += 1\n",
        "print(counter)"
      ],
      "metadata": {
        "id": "McGAuIKCBf4u"
      },
      "execution_count": null,
      "outputs": []
    },
    {
      "cell_type": "code",
      "source": [
        "counter = 0 # start our counter at 0\n",
        "while counter < 5:\n",
        "  counter += 1 # counter = counter + 1\n",
        "print(counter)"
      ],
      "metadata": {
        "id": "0xlJxQGQBfzq"
      },
      "execution_count": null,
      "outputs": []
    },
    {
      "cell_type": "code",
      "source": [
        "DNA_string = 'ATG'\n",
        "GC_count = 0\n",
        "# let's check if the first base is a G or a C\n",
        "if DNA_string[0] == 'G' or DNA_string[0] == 'C':\n",
        "    GC_count += 1 # GC_count = GC_count + 1\n",
        "# let's check if the second base is a G or a C\n",
        "if DNA_string[1] == 'G' or DNA_string[1] == 'C':\n",
        "    GC_count += 1 # GC_count = GC_count + 1\n",
        "# let's check if the third base is a G or a C\n",
        "if DNA_string[2] == 'G' or DNA_string[2] == 'C':\n",
        "    # calculate gc percentage\n",
        "    GC_count += 1 # GC_count = GC_count + 1\n",
        "print(GC_count/3)"
      ],
      "metadata": {
        "id": "blggSnPuUoY9"
      },
      "execution_count": null,
      "outputs": []
    },
    {
      "cell_type": "code",
      "source": [],
      "metadata": {
        "id": "s56Yv_zLTWsA"
      },
      "execution_count": null,
      "outputs": []
    },
    {
      "cell_type": "markdown",
      "source": [
        "# *for*  loops\n",
        "\n",
        "The **for** loop allows you to run the same block of code on every member of a set of objects. The\n",
        "**for** loop is used to iterate over list, string, tuples, or dictionaries"
      ],
      "metadata": {
        "tags": [],
        "cell_id": "51bb401e48f7441cbf96681a04b778b8",
        "deepnote_cell_height": 122.734375,
        "deepnote_cell_type": "markdown",
        "id": "tbQCUu3a5CuM"
      }
    },
    {
      "cell_type": "markdown",
      "source": [
        "Structure of for loop:\n",
        "\n",
        "```\n",
        "for item in items:\n",
        "    do something\n",
        "```"
      ],
      "metadata": {
        "tags": [],
        "cell_id": "ac5b015b40084130875fbb8a09d813da",
        "deepnote_cell_height": 127.953125,
        "deepnote_cell_type": "markdown",
        "id": "iwquB7bC5CuM"
      }
    },
    {
      "cell_type": "code",
      "source": [
        "for loop_var in 'abcdef':\n",
        "    print('loop_var is', loop_var)"
      ],
      "metadata": {
        "tags": [],
        "cell_id": "2ec8e57b114142bfb40a50a489174609",
        "source_hash": "b623e53d",
        "output_cleared": false,
        "deepnote_to_be_reexecuted": true,
        "deepnote_cell_type": "code",
        "id": "3md9K7M15CuN",
        "colab": {
          "base_uri": "https://localhost:8080/"
        },
        "outputId": "ef021ace-4e08-4afa-ed27-05ce131abd3c"
      },
      "outputs": [
        {
          "output_type": "stream",
          "name": "stdout",
          "text": [
            "loop_var is a\n",
            "loop_var is b\n",
            "loop_var is c\n",
            "loop_var is d\n",
            "loop_var is e\n",
            "loop_var is f\n"
          ]
        }
      ],
      "execution_count": 60
    },
    {
      "cell_type": "code",
      "source": [
        "# the loop variable num, will change each time it iterates over the list [1, 2, 3, 4, 5]\n",
        "for num in [1, 2, 3, 4, 5]:\n",
        "  print('num is', num, 'this time through the loop')\n",
        "\n",
        "# also instead of num, you could also use 'i'"
      ],
      "metadata": {
        "id": "oRwJrJ1Ub4uB",
        "colab": {
          "base_uri": "https://localhost:8080/"
        },
        "outputId": "e5300c49-2eed-4563-9de4-c25a9fed2096"
      },
      "execution_count": 61,
      "outputs": [
        {
          "output_type": "stream",
          "name": "stdout",
          "text": [
            "num is 1 this time through the loop\n",
            "num is 2 this time through the loop\n",
            "num is 3 this time through the loop\n",
            "num is 4 this time through the loop\n",
            "num is 5 this time through the loop\n"
          ]
        }
      ]
    },
    {
      "cell_type": "code",
      "source": [
        "# the loop variable is a temporary variable, and we can call it anything.\n",
        "# the following code gives the same output as above\n",
        "for x in [1, 2, 3, 4, 5]:\n",
        "  print('x is', x, 'this time through the loop')"
      ],
      "metadata": {
        "id": "lOgry2SzcUgK"
      },
      "execution_count": null,
      "outputs": []
    },
    {
      "cell_type": "code",
      "source": [
        "# same example:\n",
        "for x in [1, 2, 3, 4, 5]:\n",
        "  print('x is', x, 'this', x, 'time through the loop')\n",
        "\n",
        "# the loop variable takes on the value of the next item in the list as it 'loops' through the list (in this example)"
      ],
      "metadata": {
        "id": "zNShiLuFcoOn"
      },
      "execution_count": null,
      "outputs": []
    },
    {
      "cell_type": "code",
      "source": [
        "sequence = \"GATTACA\"\n",
        "# iterate over a string\n",
        "\n",
        "for base in sequence: # structure / syntax\n",
        "    print(base)\n",
        "    # base is our loop variable/ temp variable"
      ],
      "metadata": {
        "tags": [],
        "cell_id": "16ccc86cf4a04b65960915e83193df66",
        "source_hash": "e98787fd",
        "output_cleared": false,
        "execution_start": 1680798411737,
        "execution_millis": 4,
        "deepnote_to_be_reexecuted": false,
        "deepnote_cell_type": "code",
        "id": "-lkQg0FT5CuN"
      },
      "outputs": [],
      "execution_count": null
    },
    {
      "cell_type": "code",
      "source": [
        "sequence = \"GATTACA\"\n",
        "# iterate over a string\n",
        "\n",
        "for x in sequence: # structure / syntax\n",
        "    print(x)"
      ],
      "metadata": {
        "id": "gBeVP_8NKqTb"
      },
      "execution_count": null,
      "outputs": []
    },
    {
      "cell_type": "code",
      "source": [
        "sequence = \"GATTACA\"\n",
        "# iterate over a string\n",
        "\n",
        "for i in sequence: # structure / syntax\n",
        "    print(i)"
      ],
      "metadata": {
        "id": "2GDq-7CwKuIZ"
      },
      "execution_count": null,
      "outputs": []
    },
    {
      "cell_type": "code",
      "source": [
        "my_chores = ['dishes', 'trash', 'dusting', 'sweeping', 'homework']\n",
        "\n",
        "for item in my_chores:\n",
        "  print(\"Do\", item)\n"
      ],
      "metadata": {
        "tags": [],
        "cell_id": "8decdd7527de475283fccc44a5e1ffa4",
        "source_hash": "b623e53d",
        "output_cleared": false,
        "deepnote_to_be_reexecuted": true,
        "deepnote_cell_type": "code",
        "id": "UzC1_aAE5CuN",
        "colab": {
          "base_uri": "https://localhost:8080/"
        },
        "outputId": "eeea7778-c56d-4a9b-ee25-fd99b8f3cdf2"
      },
      "outputs": [
        {
          "output_type": "stream",
          "name": "stdout",
          "text": [
            "Do dishes\n",
            "Do trash\n",
            "Do dusting\n",
            "Do sweeping\n",
            "Do homework\n"
          ]
        }
      ],
      "execution_count": 62
    },
    {
      "cell_type": "code",
      "source": [
        "requested_toppings = ['mushrooms', 'extra cheese', 'green peppers']\n",
        "\n",
        "# requested toppings was a list\n",
        "# topping is our loop variable\n",
        "\n",
        "for topping in requested_toppings:\n",
        "  if topping == 'green peppers':\n",
        "    print('Sorry, we are out of green peppers at the moment')\n",
        "\n",
        "  else:\n",
        "    print('Adding', topping)\n",
        "\n",
        "print('Finished making your pizza!')"
      ],
      "metadata": {
        "id": "s2IU_sw48LNL",
        "colab": {
          "base_uri": "https://localhost:8080/"
        },
        "outputId": "902869b2-b2f9-46f2-d4b4-e62661babdd9"
      },
      "execution_count": 63,
      "outputs": [
        {
          "output_type": "stream",
          "name": "stdout",
          "text": [
            "Adding mushrooms\n",
            "Adding extra cheese\n",
            "Sorry, we are out of green peppers at the moment\n",
            "Finished making your pizza!\n"
          ]
        }
      ]
    },
    {
      "cell_type": "code",
      "source": [
        "requested_toppings = ['mushrooms', 'green peppers', 'extra cheese', 'olives']\n",
        "\n",
        "# requested toppings was a list\n",
        "# topping is our loop variable\n",
        "\n",
        "\n",
        "\n",
        "\n"
      ],
      "metadata": {
        "id": "K0UC9FQb8LIB"
      },
      "execution_count": null,
      "outputs": []
    },
    {
      "cell_type": "markdown",
      "source": [
        "# Range Function\n",
        "The range function range() can take three integer arguments, the first and third are optional\n",
        "\n",
        "range(start=0, stop, step=1)"
      ],
      "metadata": {
        "tags": [],
        "cell_id": "245688090c684523b10e4c667da7f1a6",
        "deepnote_cell_height": 88.75,
        "deepnote_cell_type": "markdown",
        "id": "sD8ZhCUC5CuN"
      }
    },
    {
      "cell_type": "code",
      "source": [
        "# range(start, stop, step)\n",
        "# range function\n",
        "for i in range(5): # this only includes the stop value, not start or step!\n",
        "    print(i)"
      ],
      "metadata": {
        "tags": [],
        "cell_id": "1088283d4b554d878cceb57662ce2512",
        "source_hash": "7b587086",
        "output_cleared": false,
        "execution_start": 1680798407253,
        "execution_millis": 3,
        "deepnote_to_be_reexecuted": false,
        "deepnote_cell_type": "code",
        "id": "0X4HF_D25CuN",
        "colab": {
          "base_uri": "https://localhost:8080/"
        },
        "outputId": "e8e0b53e-3a47-43e7-8f40-d4d7985c0bee"
      },
      "outputs": [
        {
          "output_type": "stream",
          "name": "stdout",
          "text": [
            "0\n",
            "1\n",
            "2\n",
            "3\n",
            "4\n"
          ]
        }
      ],
      "execution_count": 64
    },
    {
      "cell_type": "code",
      "source": [
        "for i in range(1, 11):\n",
        "    print(i)\n",
        "# the output of this is from 1 -> 10; does not print the stop value!"
      ],
      "metadata": {
        "tags": [],
        "cell_id": "05a71e6e16ce403f919cf9455d8e16ed",
        "source_hash": "148b777d",
        "output_cleared": false,
        "execution_start": 1680798404654,
        "execution_millis": 3,
        "deepnote_to_be_reexecuted": false,
        "deepnote_cell_type": "code",
        "id": "60AuJkhi5CuN",
        "colab": {
          "base_uri": "https://localhost:8080/"
        },
        "outputId": "d4bbe8ae-48ad-478b-da41-c5827829aae8"
      },
      "outputs": [
        {
          "output_type": "stream",
          "name": "stdout",
          "text": [
            "1\n",
            "2\n",
            "3\n",
            "4\n",
            "5\n",
            "6\n",
            "7\n",
            "8\n",
            "9\n",
            "10\n"
          ]
        }
      ],
      "execution_count": 65
    },
    {
      "cell_type": "code",
      "source": [
        "for i in range(0,11,2): # skip by two!\n",
        "  print(i)"
      ],
      "metadata": {
        "id": "VMGMI-enJ_rJ",
        "colab": {
          "base_uri": "https://localhost:8080/"
        },
        "outputId": "acbab02e-9b17-42d8-cf73-f261750c32c5"
      },
      "execution_count": 66,
      "outputs": [
        {
          "output_type": "stream",
          "name": "stdout",
          "text": [
            "0\n",
            "2\n",
            "4\n",
            "6\n",
            "8\n",
            "10\n"
          ]
        }
      ]
    },
    {
      "cell_type": "code",
      "source": [
        "# challenge:\n",
        "# use a for loop to print squares of numbers\n",
        "# for example, find the squares of the numbers: [0, 1, 2, 3]"
      ],
      "metadata": {
        "tags": [],
        "cell_id": "a4a58bf362dc4f0ea9b96d22c371a1cb",
        "source_hash": "179b5a4f",
        "output_cleared": false,
        "deepnote_to_be_reexecuted": true,
        "deepnote_cell_type": "code",
        "id": "_xAW4Ry-5CuN"
      },
      "outputs": [],
      "execution_count": null
    },
    {
      "cell_type": "code",
      "source": [
        "numbers = [0, 1, 2, 3]\n",
        "for i in numbers:\n",
        "  print(i**2)"
      ],
      "metadata": {
        "tags": [],
        "cell_id": "8aa37337bab54cba91f2f09689375b5a",
        "source_hash": "b623e53d",
        "output_cleared": false,
        "deepnote_to_be_reexecuted": true,
        "deepnote_cell_type": "code",
        "id": "zyV2CYlU5CuN",
        "colab": {
          "base_uri": "https://localhost:8080/"
        },
        "outputId": "03e8dbb4-feff-4f46-efe8-2d95d1ac7735"
      },
      "outputs": [
        {
          "output_type": "stream",
          "name": "stdout",
          "text": [
            "0\n",
            "1\n",
            "4\n",
            "9\n"
          ]
        }
      ],
      "execution_count": 67
    },
    {
      "cell_type": "code",
      "source": [],
      "metadata": {
        "tags": [],
        "cell_id": "cdb9bd0ab0ba4830be3c4cd97b4fc816",
        "source_hash": "b623e53d",
        "output_cleared": false,
        "deepnote_to_be_reexecuted": true,
        "deepnote_cell_type": "code",
        "id": "gV4A5YNt5CuN"
      },
      "outputs": [],
      "execution_count": null
    },
    {
      "cell_type": "markdown",
      "source": [
        "# **Practice 2**"
      ],
      "metadata": {
        "id": "ayLAXy8rRY1Q"
      }
    },
    {
      "cell_type": "code",
      "source": [
        "'''find the length of our DNA string NOT using len(). Use a counter and a for loop'''\n",
        "\n",
        "dna = 'ATCACGATGACGTGACGGATCGAGCAGTACGCCT'\n",
        "\n",
        "dna_count = 0\n",
        "\n",
        "# for loop\n",
        "for i in dna:\n",
        "  dna_count += 1 # add to counter\n",
        "\n",
        "print(dna_count) # print counter"
      ],
      "metadata": {
        "id": "iAsl3iwPfgvO",
        "colab": {
          "base_uri": "https://localhost:8080/"
        },
        "outputId": "f52be8f3-58a8-4aab-aa06-5e3526236f1a"
      },
      "execution_count": 1,
      "outputs": [
        {
          "output_type": "stream",
          "name": "stdout",
          "text": [
            "34\n"
          ]
        }
      ]
    },
    {
      "cell_type": "code",
      "source": [
        "print(len(dna))"
      ],
      "metadata": {
        "colab": {
          "base_uri": "https://localhost:8080/"
        },
        "id": "n8cPulSaoEP_",
        "outputId": "6bd141c2-4a9c-4c29-cc80-382aa950db4c"
      },
      "execution_count": 80,
      "outputs": [
        {
          "output_type": "stream",
          "name": "stdout",
          "text": [
            "34\n"
          ]
        }
      ]
    },
    {
      "cell_type": "code",
      "source": [
        "'''what is the GC count/content of our DNA string?'''\n",
        "dna = 'ATCACGATGACGTGACGGATCGAGCAGTACGCCT'\n",
        "\n",
        "# counter initial\n",
        "gc_count = 0\n",
        "\n",
        "# loop variable\n",
        "for i in dna:\n",
        "\n",
        "#\n"
      ],
      "metadata": {
        "id": "8iULw15PfgpZ"
      },
      "execution_count": null,
      "outputs": []
    },
    {
      "cell_type": "code",
      "source": [
        "gc_count = 0\n",
        "for i in dna:\n",
        "  if i == 'G' or 'C':\n",
        "    gc_count += 1\n",
        "\n",
        "gc_percentage = gc_count / len(dna) * 100\n",
        "print(gc_percentage)"
      ],
      "metadata": {
        "colab": {
          "base_uri": "https://localhost:8080/"
        },
        "id": "PLkEiFiSoQFp",
        "outputId": "d253321f-4cba-4a7e-eaae-4e2ac151d18a"
      },
      "execution_count": 82,
      "outputs": [
        {
          "output_type": "stream",
          "name": "stdout",
          "text": [
            "100.0\n"
          ]
        }
      ]
    },
    {
      "cell_type": "code",
      "source": [
        "'''using the count method for strings, find the number of As, Ts, Cs, and Gs, in the dna sequence'''\n",
        "# hint: .count()\n",
        "\n",
        "# do the same for Cs and Ts\n"
      ],
      "metadata": {
        "id": "S0YdDmzvy9F2"
      },
      "execution_count": null,
      "outputs": []
    },
    {
      "cell_type": "code",
      "source": [
        "'''find the number of codons, but now include an if/else statement.\n",
        "for the else statement, let the user know the dna string is not a multiple of 3,\n",
        "but might have X codons'''\n",
        "\n",
        "\n",
        "dna = 'ATCACGATGACGTGACGGATCGAGCAGTACGCCT'\n",
        "#dna = 'ATCACGATGACGTGACGGATCGAGCAGTACGCC'\n",
        "\n",
        "if len(dna)%3 == 0:\n",
        "  print(len(dna)//3)\n",
        "else:\n",
        "  print('DNA string is not a multiple of 3, but might have', str(len(dna)//3))\n",
        "\n"
      ],
      "metadata": {
        "id": "c9ylFmOwz0hZ",
        "colab": {
          "base_uri": "https://localhost:8080/"
        },
        "outputId": "b35f5bda-7f70-4d0a-e936-1bc88f101903"
      },
      "execution_count": 5,
      "outputs": [
        {
          "output_type": "stream",
          "name": "stdout",
          "text": [
            "DNA string is not a multiple of 3, but might have 11\n"
          ]
        }
      ]
    },
    {
      "cell_type": "code",
      "source": [
        "'''is there a start codon in our DNA string?'''\n",
        "# hint: start codon: 'ATG'\n",
        "\n",
        "'ATG' in dna # boolean\n",
        "# will either print true or false\n"
      ],
      "metadata": {
        "id": "zqfVg5a8fgsU",
        "colab": {
          "base_uri": "https://localhost:8080/"
        },
        "outputId": "aad99b0a-741e-43b5-d5b7-a07f12bb3331"
      },
      "execution_count": 84,
      "outputs": [
        {
          "output_type": "execute_result",
          "data": {
            "text/plain": [
              "True"
            ]
          },
          "metadata": {},
          "execution_count": 84
        }
      ]
    },
    {
      "cell_type": "code",
      "source": [
        "# challenge:\n",
        "'''Count the number of start codons (ATG) in a DNA sequence.\n",
        "Use a for loop.\n",
        "'''\n",
        "# counter\n",
        "# for loop\n",
        "# codon? print(dna[0:3])\n",
        "\n",
        "# setting up our counter\n",
        "counter = 0\n",
        "# loop variable with range\n",
        "for i in range(len(dna)): # allows us to do index!\n",
        "  # print(dna[i:i+3]) # looping 3 nucleotides at a time; a good way to do it\n",
        "  # print(i) # tell us if its printing 3 at a time!\n",
        "  if dna[i:i+3] == 'ATG':\n",
        "    counter += 1\n"
      ],
      "metadata": {
        "id": "qGj8k2ukfgmf",
        "colab": {
          "base_uri": "https://localhost:8080/"
        },
        "outputId": "a11b4873-920c-4c79-fca8-c24e8f6e18fb"
      },
      "execution_count": 89,
      "outputs": [
        {
          "output_type": "stream",
          "name": "stdout",
          "text": [
            "ATC\n",
            "TCA\n",
            "CAC\n",
            "ACG\n",
            "CGA\n",
            "GAT\n",
            "ATG\n",
            "TGA\n",
            "GAC\n",
            "ACG\n",
            "CGT\n",
            "GTG\n",
            "TGA\n",
            "GAC\n",
            "ACG\n",
            "CGG\n",
            "GGA\n",
            "GAT\n",
            "ATC\n",
            "TCG\n",
            "CGA\n",
            "GAG\n",
            "AGC\n",
            "GCA\n",
            "CAG\n",
            "AGT\n",
            "GTA\n",
            "TAC\n",
            "ACG\n",
            "CGC\n",
            "GCC\n",
            "CCT\n",
            "CT\n",
            "T\n"
          ]
        }
      ]
    },
    {
      "cell_type": "markdown",
      "source": [
        "# *while*  loops\n",
        "\n",
        "Similar to a **for** loop, a **while** loop allows you to run the same block of code repeatedly. A **while** loop will run until a condition is met, and a condition is encoded as a boolean. The body of the while loop will be repeated as long as the controlling boolean expression evaluates to True."
      ],
      "metadata": {
        "tags": [],
        "cell_id": "1b7231536aaf4357aee3a740e30968c5",
        "deepnote_cell_height": 122.734375,
        "deepnote_cell_type": "markdown",
        "id": "PjHrO3Ot5CuN"
      }
    },
    {
      "cell_type": "markdown",
      "source": [
        "Structure of while loop:\n",
        "\n",
        "```\n",
        "while test_expression:\n",
        "    body of while\n",
        "```"
      ],
      "metadata": {
        "tags": [],
        "cell_id": "d868e44dff584f45b2e473a7f2e94e0b",
        "deepnote_cell_height": 127.953125,
        "deepnote_cell_type": "markdown",
        "id": "5udX-RjA5CuN"
      }
    },
    {
      "cell_type": "markdown",
      "source": [
        "In the while loop, ```test_expression``` is checked first. The body of the loop is entered only if the ```test_expression``` evaluates to ```True```. After one iteration, the ```test_expression``` is checked again. This process continues until the ```test_expression``` evaluates to ```False```."
      ],
      "metadata": {
        "tags": [],
        "cell_id": "a6a847dc1ee64e4a8828ac75b9ddf5a8",
        "deepnote_cell_height": 74.75,
        "deepnote_cell_type": "markdown",
        "id": "7oq7LvJ75CuN"
      }
    },
    {
      "cell_type": "code",
      "source": [
        "# A while loop will run until a condition is met, and a condition is encoded as a boolean."
      ],
      "metadata": {
        "tags": [],
        "cell_id": "443674c9674f4da392a84841fa7a396d",
        "source_hash": "717ea980",
        "output_cleared": false,
        "execution_start": 1645546489916,
        "execution_millis": 35251834977,
        "deepnote_to_be_reexecuted": true,
        "deepnote_cell_type": "code",
        "id": "uQpICUp35CuN"
      },
      "outputs": [],
      "execution_count": 90
    },
    {
      "cell_type": "code",
      "source": [
        "# an example using a while loop (the for loop example is above this one)\n",
        "i = 1\n",
        "while i <= 10:\n",
        "    print(i) # this block of code will run while the condition is True\n",
        "    i = i + 1\n",
        "\n",
        "# important to make sure the conditional statement between while and the colon will be False at some point!\n"
      ],
      "metadata": {
        "tags": [],
        "cell_id": "ed1a3880d24a43b2aa186d26da488ee4",
        "source_hash": "9b906d43",
        "output_cleared": false,
        "execution_start": 1680798376197,
        "execution_millis": 3,
        "deepnote_to_be_reexecuted": false,
        "deepnote_cell_type": "code",
        "id": "CK25I7a25CuN",
        "colab": {
          "base_uri": "https://localhost:8080/"
        },
        "outputId": "6de77b8e-19a7-4e55-c9e0-1f45ed280ec1"
      },
      "outputs": [
        {
          "output_type": "stream",
          "name": "stdout",
          "text": [
            "1\n",
            "2\n",
            "3\n",
            "4\n",
            "5\n",
            "6\n",
            "7\n",
            "8\n",
            "9\n",
            "10\n"
          ]
        }
      ],
      "execution_count": 91
    },
    {
      "cell_type": "code",
      "source": [],
      "metadata": {
        "tags": [],
        "cell_id": "5aa8deaf694d4a4b88201cba253b6230",
        "source_hash": "b623e53d",
        "output_cleared": false,
        "deepnote_to_be_reexecuted": true,
        "deepnote_cell_type": "code",
        "id": "N8_jlhKp5CuN"
      },
      "outputs": [],
      "execution_count": null
    },
    {
      "cell_type": "markdown",
      "source": [
        "## A while loop (from HW3)\n",
        "\n",
        "#### This question asks the user for their name and then responds \"Hello, (user_name).  Have a nice day!\" It keeps asking and responding until the letter \"x\" is inputed.  After \"x\" is inputed, it prints \"Goodbye!\" and exits the loop.   Your output will like like this (emojis are optional: https://www.geeksforgeeks.org/python-program-to-print-emojis/  )\n",
        "\n",
        "\n",
        "Please let me know your name: Ray\n",
        "Hello, Ray.  Have a nice day!😀\n",
        "\n",
        "Please let me know your name: Jennifer\n",
        "Hello, Jennifer.  Have a nice day!😀"
      ],
      "metadata": {
        "id": "07VL7I4X-Gto"
      }
    },
    {
      "cell_type": "code",
      "source": [
        "# this works, it's ok:\n",
        "user_input = input('Please let me know your name ')\n",
        "while user_input != 'x':\n",
        "  print('Hello ', user_input, 'Have a nice day!' )\n",
        "  break\n",
        "else:\n",
        "  print('Goodbye')"
      ],
      "metadata": {
        "id": "1XjcKWocA6Ap",
        "colab": {
          "base_uri": "https://localhost:8080/"
        },
        "outputId": "2bd4a56c-d400-44ec-ffd9-542ed0a36da9"
      },
      "execution_count": 95,
      "outputs": [
        {
          "output_type": "stream",
          "name": "stdout",
          "text": [
            "Please let me know your name x\n",
            "Goodbye\n"
          ]
        }
      ]
    },
    {
      "cell_type": "code",
      "source": [
        "# better:\n",
        "user_input = input('Please let me know your name')\n",
        "\n",
        "\n",
        "\n"
      ],
      "metadata": {
        "id": "PUp2RnIZIOy7"
      },
      "execution_count": null,
      "outputs": []
    },
    {
      "cell_type": "code",
      "source": [],
      "metadata": {
        "id": "Y1_pY4gOdM4E"
      },
      "execution_count": null,
      "outputs": []
    },
    {
      "cell_type": "markdown",
      "source": [
        "# **Practice 3**"
      ],
      "metadata": {
        "id": "l27bWpB9SdMR"
      }
    },
    {
      "cell_type": "markdown",
      "source": [
        "1. Using a while loop, write a program that starts at 1 and counts up to 3, then 'Done!'."
      ],
      "metadata": {
        "id": "sn7t4sIyUifU"
      }
    },
    {
      "cell_type": "code",
      "source": [
        "# count = 1\n",
        "# while loop:\n",
        "   # print count\n",
        "   # add 1 to counter\n",
        "\n",
        "# print('Done')\n",
        "\n"
      ],
      "metadata": {
        "id": "Qk4v4FwIX3Kj"
      },
      "execution_count": null,
      "outputs": []
    },
    {
      "cell_type": "code",
      "source": [
        "count = 1\n",
        "while count <= 3:\n",
        "  print(count)\n",
        "  count += 1\n",
        "\n",
        "print('Done!')"
      ],
      "metadata": {
        "id": "9Heeve_eVdr1",
        "colab": {
          "base_uri": "https://localhost:8080/"
        },
        "outputId": "b9593498-f8d4-491a-9a04-8c02f4429698"
      },
      "execution_count": 96,
      "outputs": [
        {
          "output_type": "stream",
          "name": "stdout",
          "text": [
            "1\n",
            "2\n",
            "3\n",
            "Done!\n"
          ]
        }
      ]
    },
    {
      "cell_type": "code",
      "source": [
        "# for loop!?\n",
        "\n"
      ],
      "metadata": {
        "id": "UUMfovwgRIob"
      },
      "execution_count": null,
      "outputs": []
    },
    {
      "cell_type": "markdown",
      "source": [
        "2. Using a while loop, write a program that prints 'Hello' three times."
      ],
      "metadata": {
        "id": "-VBVb_fCVU1S"
      }
    },
    {
      "cell_type": "code",
      "source": [
        "# count = 0\n",
        "# while loop:\n",
        "  # print 'Hello'\n",
        "  # add one to counter\n"
      ],
      "metadata": {
        "id": "UxCH1HLlVaG7"
      },
      "execution_count": null,
      "outputs": []
    },
    {
      "cell_type": "code",
      "source": [
        "count = 0\n",
        "\n",
        "while count < 3:\n",
        "  print('Hello!')\n",
        "  count += 1\n"
      ],
      "metadata": {
        "id": "m4SKvvyaVeHt",
        "colab": {
          "base_uri": "https://localhost:8080/"
        },
        "outputId": "73dbd3d8-1215-419f-bb1a-c7755e67d2a5"
      },
      "execution_count": 97,
      "outputs": [
        {
          "output_type": "stream",
          "name": "stdout",
          "text": [
            "Hello!\n",
            "Hello!\n",
            "Hello!\n"
          ]
        }
      ]
    },
    {
      "cell_type": "markdown",
      "source": [
        "3. Using a while loop, write a program that keeps asking the user for a number until they enter one that is bigger than 10."
      ],
      "metadata": {
        "id": "BldygNgcU55s"
      }
    },
    {
      "cell_type": "code",
      "source": [],
      "metadata": {
        "id": "B3DTBGvDX3Kk"
      },
      "execution_count": null,
      "outputs": []
    },
    {
      "cell_type": "code",
      "source": [],
      "metadata": {
        "id": "dQekkGVtVe-m"
      },
      "execution_count": null,
      "outputs": []
    },
    {
      "cell_type": "markdown",
      "source": [
        "4. Using a while loop, write a program that asks the user if they want to continue. Keep asking until they type 'no'."
      ],
      "metadata": {
        "id": "JA1auRG_XHrX"
      }
    },
    {
      "cell_type": "code",
      "source": [
        "\n"
      ],
      "metadata": {
        "id": "LRjySDY9XOjg"
      },
      "execution_count": null,
      "outputs": []
    },
    {
      "cell_type": "code",
      "source": [],
      "metadata": {
        "id": "cdtYqlWqX-69"
      },
      "execution_count": null,
      "outputs": []
    },
    {
      "cell_type": "markdown",
      "source": [
        "5. Using a while loop, write a program that starts with 1 and keeps doubling it until it reaches or goes past 100."
      ],
      "metadata": {
        "id": "KIWwxWMYVetc"
      }
    },
    {
      "cell_type": "code",
      "source": [
        "\n"
      ],
      "metadata": {
        "id": "XAuO62uRUbRW"
      },
      "execution_count": null,
      "outputs": []
    },
    {
      "cell_type": "code",
      "source": [],
      "metadata": {
        "id": "tISdLKVKBMs0"
      },
      "execution_count": null,
      "outputs": []
    },
    {
      "cell_type": "code",
      "source": [
        "# if time:"
      ],
      "metadata": {
        "id": "sIVeFufL_gKX"
      },
      "execution_count": null,
      "outputs": []
    },
    {
      "cell_type": "code",
      "source": [
        "'''\n",
        "Problem: Bacteria Growth Simulation\n",
        "A petri dish starts with 50 bacteria.\n",
        "Every hour, the population doubles.\n",
        "\n",
        "Write a program that uses a while loop to simulate the growth:\n",
        "\n",
        "If the population is under 500, print \"The colony is still small.\"\n",
        "If the population is between 500 and 5000, print \"The colony is growing rapidly!\"\n",
        "If the population grows beyond 5000, print \"The colony is out of control!\" and stop the loop.\n",
        "'''"
      ],
      "metadata": {
        "id": "HWnLlwMg_bm0"
      },
      "execution_count": null,
      "outputs": []
    },
    {
      "cell_type": "code",
      "source": [
        "\n",
        "\n",
        "\n",
        "\n",
        "\n",
        "\n",
        "\n"
      ],
      "metadata": {
        "id": "zVco58VC_cN6"
      },
      "execution_count": null,
      "outputs": []
    },
    {
      "cell_type": "code",
      "source": [],
      "metadata": {
        "id": "L28dds8R_f3i"
      },
      "execution_count": null,
      "outputs": []
    },
    {
      "cell_type": "markdown",
      "source": [
        "# *** extra"
      ],
      "metadata": {
        "id": "5JZYJ6HEdNde"
      }
    },
    {
      "cell_type": "markdown",
      "source": [
        "## F-strings\n",
        "F-strings are a way to format strings. The f is for format, because Python formats the string by replacing the name of any variable in braces with its value. They allow you to include the vaules of variables or expressions inside strings.\n"
      ],
      "metadata": {
        "tags": [],
        "cell_id": "242db2188aa24c548a63c042d0585275",
        "deepnote_cell_height": 61.953125,
        "deepnote_cell_type": "markdown",
        "id": "Arfr5Nkz9AR-"
      }
    },
    {
      "cell_type": "code",
      "source": [],
      "metadata": {
        "id": "GXN5Gek4nzt7"
      },
      "execution_count": null,
      "outputs": []
    },
    {
      "cell_type": "code",
      "source": [
        "# syntax examples:\n",
        "variable1 = \"SFSU\"\n",
        "variable2 = \"student\"\n",
        "\n",
        "f\"Hello, {variable1} {variable2}\""
      ],
      "metadata": {
        "tags": [],
        "cell_id": "07483492b3f44c2fa39e70a0fef0a9b4",
        "source_hash": "debc87dc",
        "output_cleared": true,
        "execution_start": 1680113956400,
        "execution_millis": 2,
        "deepnote_to_be_reexecuted": false,
        "deepnote_cell_type": "code",
        "id": "TfteGZCX9AR_",
        "colab": {
          "base_uri": "https://localhost:8080/",
          "height": 35
        },
        "outputId": "af78b334-08dc-48dc-b3c9-a2b9b5ffb0a5"
      },
      "outputs": [
        {
          "output_type": "execute_result",
          "data": {
            "text/plain": [
              "'Hello, SFSU student'"
            ],
            "application/vnd.google.colaboratory.intrinsic+json": {
              "type": "string"
            }
          },
          "metadata": {},
          "execution_count": 8
        }
      ],
      "execution_count": 8
    },
    {
      "cell_type": "code",
      "source": [
        "first_name = \"Walter\"\n",
        "last_name = \"White\"\n",
        "print(f\"Hello, {first_name} {last_name}!\")\n",
        "\n"
      ],
      "metadata": {
        "tags": [],
        "cell_id": "f98b08f1b6c04418adb6371c2ca477a4",
        "source_hash": "20cf0990",
        "output_cleared": true,
        "execution_start": 1680113669073,
        "execution_millis": 24,
        "deepnote_to_be_reexecuted": false,
        "deepnote_cell_type": "code",
        "id": "5p1mT0eG9AR_",
        "colab": {
          "base_uri": "https://localhost:8080/"
        },
        "outputId": "9b16918e-e304-48ed-cf54-0fa9b605661e"
      },
      "outputs": [
        {
          "output_type": "stream",
          "name": "stdout",
          "text": [
            "Hello, Walter White!\n"
          ]
        }
      ],
      "execution_count": 9
    },
    {
      "cell_type": "code",
      "source": [
        "full_name = f\"Hello, {first_name} {last_name}!\"\n",
        "print(full_name)"
      ],
      "metadata": {
        "tags": [],
        "cell_id": "cfa57f6503b546ad8669169c3acefd6c",
        "source_hash": "df68b05a",
        "output_cleared": true,
        "execution_start": 1680113672209,
        "execution_millis": 12,
        "deepnote_to_be_reexecuted": false,
        "deepnote_cell_type": "code",
        "id": "BE4Ge1rH9AR_",
        "colab": {
          "base_uri": "https://localhost:8080/"
        },
        "outputId": "f93db720-77ad-47ec-a2c1-926e2a3863e4"
      },
      "outputs": [
        {
          "output_type": "stream",
          "name": "stdout",
          "text": [
            "Hello, Walter White!\n"
          ]
        }
      ],
      "execution_count": 11
    },
    {
      "cell_type": "markdown",
      "source": [
        "*Bonus:* the contents of the {} are evaluated at runtime. So f-strings will let you do math, call functions, even refer to methods inside the {}, on the fly!"
      ],
      "metadata": {
        "cell_id": "4e87c78ea772407885a7090382196059",
        "deepnote_cell_type": "markdown",
        "id": "-8MmazvW9AR_"
      }
    },
    {
      "cell_type": "code",
      "source": [
        "print(f\"Hello, {first_name.upper()} {last_name.upper()}!\")"
      ],
      "metadata": {
        "tags": [],
        "cell_id": "277f74133ffa45c788b26734d3078871",
        "source_hash": "9f12d4c9",
        "output_cleared": true,
        "execution_start": 1680113675631,
        "execution_millis": 3,
        "deepnote_to_be_reexecuted": false,
        "deepnote_cell_type": "code",
        "id": "-oDzE3f-9ASA"
      },
      "outputs": [],
      "execution_count": null
    },
    {
      "cell_type": "code",
      "source": [],
      "metadata": {
        "id": "o1BD9H0CBlAU"
      },
      "execution_count": null,
      "outputs": []
    },
    {
      "cell_type": "markdown",
      "source": [
        "## Practice with ```continue``` and ```break```."
      ],
      "metadata": {
        "tags": [],
        "cell_id": "b5ca9d49a14b45349bfca68326b8fbdb",
        "deepnote_cell_height": 52.359375,
        "deepnote_cell_type": "markdown",
        "id": "AcfA9Dw15CuN"
      }
    },
    {
      "cell_type": "markdown",
      "source": [
        "```break``` is used to exit a for loop or a while loop. ```continue``` is used to skip the current block, and return to the '''for''' or '''while''' statement. ```pass``` is used as a placeholder for future code."
      ],
      "metadata": {
        "tags": [],
        "cell_id": "cf819ff2a47649debc9bde14b395f15a",
        "deepnote_cell_height": 74.75,
        "deepnote_cell_type": "markdown",
        "id": "mj0mrz245CuN"
      }
    },
    {
      "cell_type": "markdown",
      "source": [
        "You can advance a for loop to the next iteration, skipping the remainder of the block, using the continue keyword."
      ],
      "metadata": {
        "tags": [],
        "cell_id": "15c1f06c87ce4664afe20abe259216f1",
        "deepnote_cell_height": 52.359375,
        "deepnote_cell_type": "markdown",
        "id": "8KhbLlOX5CuN"
      }
    },
    {
      "cell_type": "code",
      "source": [
        "for x in range(5):\n",
        "    if x == 2:\n",
        "        continue\n",
        "    print(x)"
      ],
      "metadata": {
        "tags": [],
        "cell_id": "1de38ee9f2e440b38e24591a4ed9790f",
        "source_hash": "6cf90a1c",
        "output_cleared": false,
        "execution_start": 1680798364473,
        "execution_millis": 5,
        "deepnote_to_be_reexecuted": false,
        "deepnote_cell_type": "code",
        "id": "sUFbHg7y5CuN"
      },
      "outputs": [],
      "execution_count": null
    },
    {
      "cell_type": "markdown",
      "source": [
        "A ```for``` loop can be exited altogether with the ```break``` keyword."
      ],
      "metadata": {
        "tags": [],
        "cell_id": "d6718d86354d41bc92ebcd23b203c14f",
        "deepnote_cell_height": 52.359375,
        "deepnote_cell_type": "markdown",
        "id": "X4KqKS765CuN"
      }
    },
    {
      "cell_type": "code",
      "source": [
        "for x in range(5):\n",
        "    if x ==2:\n",
        "        break\n",
        "    print(x)"
      ],
      "metadata": {
        "tags": [],
        "cell_id": "eeaf73d458094bd0b9100ccca39e9bed",
        "source_hash": "be3c2e34",
        "output_cleared": false,
        "execution_start": 1680798355932,
        "execution_millis": 1,
        "deepnote_to_be_reexecuted": false,
        "deepnote_cell_type": "code",
        "id": "1et7U7Fi5CuN"
      },
      "outputs": [],
      "execution_count": null
    },
    {
      "cell_type": "code",
      "source": [
        "for x in [0, 1, 2]:\n",
        "    pass"
      ],
      "metadata": {
        "tags": [],
        "cell_id": "df549298294247e8a6ed0d0c8d31295e",
        "source_hash": "8bb433b9",
        "output_cleared": false,
        "execution_start": 1680798348936,
        "execution_millis": 1,
        "deepnote_to_be_reexecuted": false,
        "deepnote_cell_type": "code",
        "id": "5CHA1i_W5CuN"
      },
      "outputs": [],
      "execution_count": null
    },
    {
      "cell_type": "code",
      "source": [
        "# example with a while loop\n",
        "count = 0\n",
        "while True:\n",
        "    print(count)\n",
        "    count += 1\n",
        "    if count >= 5:\n",
        "        break"
      ],
      "metadata": {
        "tags": [],
        "cell_id": "7caf55f0a6a74889a3ab2ed802b78c3f",
        "source_hash": "b0c66b95",
        "output_cleared": false,
        "execution_start": 1680798339849,
        "execution_millis": 3,
        "deepnote_to_be_reexecuted": false,
        "deepnote_cell_type": "code",
        "id": "1TWEPLAW5CuO"
      },
      "outputs": [],
      "execution_count": null
    },
    {
      "cell_type": "code",
      "source": [
        "# Challenges - see the Week 4 Practice problems at the bottom!"
      ],
      "metadata": {
        "tags": [],
        "cell_id": "4da75cdf2f2b4020bce25d9a3c029417",
        "source_hash": "57a1aa76",
        "output_cleared": false,
        "deepnote_to_be_reexecuted": true,
        "deepnote_cell_type": "code",
        "id": "l-zd_yVp5CuO"
      },
      "outputs": [],
      "execution_count": null
    },
    {
      "cell_type": "markdown",
      "source": [
        "<a style='text-decoration:none;line-height:16px;display:flex;color:#5B5B62;padding:10px;justify-content:end;' href='https://deepnote.com?utm_source=created-in-deepnote-cell&projectId=eb4f2c16-1ad0-4fe6-bd79-47dfaeeaf3fa' target=\"_blank\">\n",
        "<img alt='Created in deepnote.com' style='display:inline;max-height:16px;margin:0px;margin-right:7.5px;' src='data:image/svg+xml;base64,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' > </img>\n",
        "Created in <span style='font-weight:600;margin-left:4px;'>Deepnote</span></a>"
      ],
      "metadata": {
        "created_in_deepnote_cell": true,
        "deepnote_cell_type": "markdown",
        "id": "FU9KPWoD5CuO"
      }
    }
  ],
  "nbformat": 4,
  "nbformat_minor": 0,
  "metadata": {
    "deepnote": {
      "is_reactive": false
    },
    "orig_nbformat": 2,
    "deepnote_notebook_id": "be0aea973bcb4f198cc2f8fd3d7428bf",
    "deepnote_execution_queue": [],
    "colab": {
      "provenance": [],
      "include_colab_link": true
    },
    "language_info": {
      "name": "python"
    },
    "kernelspec": {
      "name": "python3",
      "display_name": "Python 3"
    }
  }
}