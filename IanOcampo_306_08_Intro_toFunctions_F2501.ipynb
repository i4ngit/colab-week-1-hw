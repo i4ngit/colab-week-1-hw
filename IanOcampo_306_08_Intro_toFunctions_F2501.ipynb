{
  "cells": [
    {
      "cell_type": "markdown",
      "metadata": {
        "id": "view-in-github",
        "colab_type": "text"
      },
      "source": [
        "<a href=\"https://colab.research.google.com/github/i4ngit/colab-week-1-hw/blob/main/IanOcampo_306_08_Intro_toFunctions_F2501.ipynb\" target=\"_parent\"><img src=\"https://colab.research.google.com/assets/colab-badge.svg\" alt=\"Open In Colab\"/></a>"
      ]
    },
    {
      "cell_type": "code",
      "source": [
        "# Start writing code here..."
      ],
      "metadata": {
        "tags": [],
        "cell_id": "2c7388040af2463588ea5bc5ed1ce782",
        "output_cleared": true,
        "deepnote_cell_type": "code",
        "id": "9HEUX6rO6bIE"
      },
      "outputs": [],
      "execution_count": null
    },
    {
      "cell_type": "markdown",
      "source": [
        "# Challenges:"
      ],
      "metadata": {
        "id": "P0UWAKfe72OO"
      }
    },
    {
      "cell_type": "markdown",
      "source": [
        "Challenge 1:"
      ],
      "metadata": {
        "id": "T-QUvgBuROPE"
      }
    },
    {
      "cell_type": "code",
      "source": [
        "# use a for loop to print squares of numbers\n",
        "# for example, find the squares of the numbers: [1, 2, 3]"
      ],
      "metadata": {
        "id": "UxpNOcroRNuM"
      },
      "execution_count": null,
      "outputs": []
    },
    {
      "cell_type": "code",
      "source": [],
      "metadata": {
        "id": "HtPUaCMwRI-K"
      },
      "execution_count": null,
      "outputs": []
    },
    {
      "cell_type": "code",
      "source": [
        "# now, let's put it in a function!\n",
        "\n"
      ],
      "metadata": {
        "id": "APt3xwdWRawu"
      },
      "execution_count": null,
      "outputs": []
    },
    {
      "cell_type": "code",
      "source": [],
      "metadata": {
        "id": "qatULkwruCDl"
      },
      "execution_count": null,
      "outputs": []
    },
    {
      "cell_type": "markdown",
      "source": [
        "Challenge 2:"
      ],
      "metadata": {
        "id": "yR2fg2r0RQSv"
      }
    },
    {
      "cell_type": "code",
      "source": [
        "# use a for loop to calculate the sum of a list of numbers\n",
        "\n",
        "list_of_nums = [4, 5, 8] # hint: the output should be 17\n",
        "\n"
      ],
      "metadata": {
        "id": "nZRKDbzZRI1L"
      },
      "execution_count": null,
      "outputs": []
    },
    {
      "cell_type": "code",
      "source": [],
      "metadata": {
        "id": "PHvvGmx7RIwn"
      },
      "execution_count": null,
      "outputs": []
    },
    {
      "cell_type": "code",
      "source": [],
      "metadata": {
        "id": "u_ZTZzNWRZ9W"
      },
      "execution_count": null,
      "outputs": []
    },
    {
      "cell_type": "markdown",
      "source": [
        "Challenge 3:"
      ],
      "metadata": {
        "id": "k5QyKlbODB2P"
      }
    },
    {
      "cell_type": "code",
      "source": [
        "# use a for loop to calculate the sum of numbers from 1 up to some number"
      ],
      "metadata": {
        "id": "kKwwpnuqRIsW"
      },
      "execution_count": null,
      "outputs": []
    },
    {
      "cell_type": "code",
      "source": [],
      "metadata": {
        "id": "TiBVedcERIoC"
      },
      "execution_count": null,
      "outputs": []
    },
    {
      "cell_type": "code",
      "source": [],
      "metadata": {
        "id": "kaiWEjSyWPxf"
      },
      "execution_count": null,
      "outputs": []
    },
    {
      "cell_type": "markdown",
      "source": [
        "# Functions\n",
        "Functions are named blocks of code that are desgined to do one specific job.\n",
        "A function is a block of code which only runs when called and allows us to repeat a block of code.\n",
        "If you need to perform a certain task/block of code multiple times throughout your code, you don't need to type all the code for the same task again and again."
      ],
      "metadata": {
        "tags": [],
        "cell_id": "06f372d7180b43a189d7e8137f6a50e8",
        "deepnote_cell_height": 175.53125,
        "deepnote_cell_type": "markdown",
        "id": "hx3mf3Qf6bIJ"
      }
    },
    {
      "cell_type": "markdown",
      "source": [
        "Function syntax"
      ],
      "metadata": {
        "tags": [],
        "cell_id": "0ac473db496e41dfb4cdb3010f325800",
        "deepnote_cell_height": 52.359375,
        "deepnote_cell_type": "markdown",
        "id": "20NRKgzG6bIJ"
      }
    },
    {
      "cell_type": "markdown",
      "source": [
        "```\n",
        "def function(input1, input2):\n",
        "    '''Docstring describing what the function does'''\n",
        "    # do things...\n",
        "    # return something\n",
        "    return input1 + return2\n",
        "\n",
        "function()\n",
        "```"
      ],
      "metadata": {
        "tags": [],
        "cell_id": "0a4e189762794652aee07fb34122cf47",
        "deepnote_cell_height": 195.53125,
        "deepnote_cell_type": "markdown",
        "id": "KF1b9s5G6bIJ"
      }
    },
    {
      "cell_type": "markdown",
      "source": [
        "## Your first functions"
      ],
      "metadata": {
        "tags": [],
        "cell_id": "2d07b2c018404b35b62ccae7ddd9b915",
        "deepnote_cell_height": 61.953125,
        "deepnote_cell_type": "markdown",
        "id": "78_a85la6bIK"
      }
    },
    {
      "cell_type": "code",
      "source": [
        "def my_function(): # defining function\n",
        "    # this indented block of code is stored\n",
        "    # in this function and can be used later\n",
        "    # when you run this cell it just stores\n",
        "    # this block of code but doesn't run it yet!\n",
        "    # then when you use my_function() somewhere\n",
        "    # else, this block of code runs!\n",
        "    print('this does not print until we call my_function')\n",
        "\n",
        "my_function() # calling function"
      ],
      "metadata": {
        "tags": [],
        "cell_id": "9be34cc8011646469da2d48647c6ac3a",
        "source_hash": "d0c4a71c",
        "output_cleared": false,
        "execution_start": 1664907170715,
        "execution_millis": 4,
        "deepnote_to_be_reexecuted": false,
        "deepnote_cell_type": "code",
        "id": "r7j0xRdr6bIK"
      },
      "outputs": [],
      "execution_count": null
    },
    {
      "cell_type": "code",
      "source": [
        "def greet_user():\n",
        "    '''Display a simple greeting''' # docstring explaining what the function does\n",
        "    print('Hello!')\n",
        "\n",
        "greet_user()"
      ],
      "metadata": {
        "tags": [],
        "cell_id": "cbddd1b6ef6e407a9475c99178f15b90",
        "source_hash": "71f131ac",
        "output_cleared": false,
        "execution_start": 1664907195376,
        "execution_millis": 9,
        "deepnote_to_be_reexecuted": false,
        "deepnote_cell_type": "code",
        "id": "QOxRMeEq6bIK"
      },
      "outputs": [],
      "execution_count": null
    },
    {
      "cell_type": "code",
      "source": [
        "def greet_user(name):\n",
        "    print('Hello', name)\n",
        "    print('Glad to see you')\n",
        "\n",
        "greet_user('Lucy') # calling our function"
      ],
      "metadata": {
        "tags": [],
        "cell_id": "0d70e963e69d442ebbed0976eb9043b3",
        "source_hash": "25cd74ca",
        "execution_start": 1664907298360,
        "execution_millis": 6,
        "deepnote_to_be_reexecuted": false,
        "deepnote_cell_type": "code",
        "id": "elfER7ye6bIK"
      },
      "outputs": [],
      "execution_count": null
    },
    {
      "cell_type": "code",
      "source": [
        "greet_user()"
      ],
      "metadata": {
        "id": "f3ZGiHKaw7lH"
      },
      "execution_count": null,
      "outputs": []
    },
    {
      "cell_type": "code",
      "source": [
        "name = input(\"please enter your name \")\n",
        "greet_user(name)"
      ],
      "metadata": {
        "id": "O13qiDUVuUPx"
      },
      "execution_count": null,
      "outputs": []
    },
    {
      "cell_type": "code",
      "source": [
        "def greet_user(name, last_name): # two parameters; function will expect two inputs\n",
        "    '''Display a simple greeting'''\n",
        "    print('Hello,', name, last_name)\n",
        "    print('Glad to see you')\n",
        "\n",
        "\n",
        "greet_user('Lucy', 'Lu') # calling our function"
      ],
      "metadata": {
        "tags": [],
        "cell_id": "67f6376fcecf440aa825b01bc2ee529c",
        "source_hash": "5523b216",
        "execution_start": 1664907373729,
        "execution_millis": 7,
        "deepnote_to_be_reexecuted": false,
        "deepnote_cell_type": "code",
        "id": "Yj3oJaFZ6bIK"
      },
      "outputs": [],
      "execution_count": null
    },
    {
      "cell_type": "code",
      "source": [
        "def greet_user(name, last_name):\n",
        "    '''Display a simple greeting'''\n",
        "    print('Hello,', name, last_name)\n",
        "    print('Glad to see you')\n",
        "    print(\"that's all\") # this will not print because it is after a return statement\n",
        "    return (name[0], last_name[0])\n",
        "\n",
        "\n",
        "first_initial, last_initial = greet_user('Lucy', 'Lu') # calling our function\n",
        "print(first_initial, last_initial)"
      ],
      "metadata": {
        "tags": [],
        "cell_id": "c459c33429b04191a5ff610e15a30711",
        "source_hash": "ff39b2b5",
        "execution_start": 1664907992015,
        "execution_millis": 2,
        "deepnote_to_be_reexecuted": false,
        "deepnote_cell_type": "code",
        "id": "mzAqreBI6bIL"
      },
      "outputs": [],
      "execution_count": null
    },
    {
      "cell_type": "code",
      "source": [
        "initials = greet_user('Lucy', 'Lu')\n",
        "print(initials)"
      ],
      "metadata": {
        "tags": [],
        "cell_id": "fdb03f2d1e9f41ffa6490dcf89d0c623",
        "source_hash": "aa865caa",
        "execution_start": 1664907556171,
        "execution_millis": 19,
        "deepnote_to_be_reexecuted": false,
        "deepnote_cell_type": "code",
        "id": "Es8XdagJ6bIL"
      },
      "outputs": [],
      "execution_count": null
    },
    {
      "cell_type": "code",
      "source": [
        "print(initals)\n",
        "#print(type(initals))"
      ],
      "metadata": {
        "tags": [],
        "cell_id": "0991f752e4fb4bd0b208f6c583534b29",
        "source_hash": "37cd52ca",
        "execution_start": 1664907576921,
        "execution_millis": 814,
        "deepnote_to_be_reexecuted": false,
        "deepnote_cell_type": "code",
        "id": "pzTDs-Qp6bIL"
      },
      "outputs": [],
      "execution_count": null
    },
    {
      "cell_type": "code",
      "source": [
        "# name\n",
        "# last name"
      ],
      "metadata": {
        "tags": [],
        "cell_id": "3737194ce1b44bf99cf1724aa1143887",
        "output_cleared": true,
        "deepnote_cell_type": "code",
        "id": "RIZw3FjE6bIL"
      },
      "outputs": [],
      "execution_count": null
    },
    {
      "cell_type": "code",
      "source": [
        "def concat(string1, string2):\n",
        "  out = string1 + string2\n",
        "  return(out)\n",
        "\n",
        "value_from_function_return = concat(\"abc\", \"123\")\n",
        "print(value_from_function_return)"
      ],
      "metadata": {
        "id": "1GTkGD5XrFRG"
      },
      "execution_count": null,
      "outputs": []
    },
    {
      "cell_type": "code",
      "source": [],
      "metadata": {
        "tags": [],
        "cell_id": "7e93f0c863304fb5a22274e51a5e927e",
        "output_cleared": true,
        "deepnote_cell_type": "code",
        "id": "FHCZxuG66bIL"
      },
      "outputs": [],
      "execution_count": null
    },
    {
      "cell_type": "code",
      "source": [
        "# let's put this code from last class into a function:\n",
        "\n",
        "ph = float(input(\"Enter the pH value (0-14): \"))\n",
        "\n",
        "if 0 <= ph < 7:\n",
        "  print(\"Acidic solution\")\n",
        "elif ph == 7:\n",
        "  print(\"Neutral solution\")\n",
        "elif 7 < ph <= 14.0:\n",
        "  print(\"Basic solution\")\n",
        "else:\n",
        "  print(\"Please enter a pH value between 0-14\")"
      ],
      "metadata": {
        "id": "i99MU0GzAsgu"
      },
      "execution_count": null,
      "outputs": []
    },
    {
      "cell_type": "code",
      "source": [],
      "metadata": {
        "id": "KK1Peidyx7Aw"
      },
      "execution_count": null,
      "outputs": []
    },
    {
      "cell_type": "code",
      "source": [
        "# if time:"
      ],
      "metadata": {
        "id": "svExY7TfKqux"
      },
      "execution_count": null,
      "outputs": []
    },
    {
      "cell_type": "markdown",
      "source": [
        "# Practice with Functions:"
      ],
      "metadata": {
        "id": "oh6WgsyQ8b20"
      }
    },
    {
      "cell_type": "code",
      "source": [],
      "metadata": {
        "id": "dyyfqCMM8anK"
      },
      "execution_count": null,
      "outputs": []
    },
    {
      "cell_type": "markdown",
      "source": [
        "1. Write a function called 'minutes_to_seconds' that takes an integer and returns the equivalent number of seconds"
      ],
      "metadata": {
        "id": "8EmKX03k-Gqn"
      }
    },
    {
      "cell_type": "code",
      "source": [
        "\n"
      ],
      "metadata": {
        "id": "vku3vLup9FGd"
      },
      "execution_count": null,
      "outputs": []
    },
    {
      "cell_type": "code",
      "source": [],
      "metadata": {
        "id": "wvwrAbjB9FB_"
      },
      "execution_count": null,
      "outputs": []
    },
    {
      "cell_type": "markdown",
      "source": [
        "2. Write a function called 'is_even' that takes an integer and returns True if the number is even and False if the number is odd."
      ],
      "metadata": {
        "id": "yt7ji8RT-MvJ"
      }
    },
    {
      "cell_type": "code",
      "source": [
        "\n"
      ],
      "metadata": {
        "id": "5ISZDI2W-H85"
      },
      "execution_count": null,
      "outputs": []
    },
    {
      "cell_type": "code",
      "source": [],
      "metadata": {
        "id": "u3KnRlCQ-H5m"
      },
      "execution_count": null,
      "outputs": []
    },
    {
      "cell_type": "markdown",
      "source": [
        "3. Write a function called 'max_of_three' that takes three numbers and returns the largest one."
      ],
      "metadata": {
        "id": "BFzXbVLxKMqe"
      }
    },
    {
      "cell_type": "code",
      "source": [
        "\n"
      ],
      "metadata": {
        "id": "ayKEoTv9-H2f"
      },
      "execution_count": null,
      "outputs": []
    },
    {
      "cell_type": "code",
      "source": [],
      "metadata": {
        "tags": [],
        "cell_id": "eb3c42dcb76d4ebc8d0c50e749e01922",
        "output_cleared": true,
        "deepnote_cell_type": "code",
        "id": "2R83Nd3g6bIL"
      },
      "outputs": [],
      "execution_count": null
    },
    {
      "cell_type": "code",
      "source": [],
      "metadata": {
        "id": "pbIM0AHGJoKh"
      },
      "execution_count": null,
      "outputs": []
    },
    {
      "cell_type": "markdown",
      "source": [
        "# Previous problems from review (if time):"
      ],
      "metadata": {
        "id": "OWSO9LhX86Oh"
      }
    },
    {
      "cell_type": "code",
      "source": [],
      "metadata": {
        "id": "OrR8Yyhh9ASr"
      },
      "execution_count": null,
      "outputs": []
    },
    {
      "cell_type": "code",
      "source": [
        "'''Count the number of start codons (ATG) in a DNA sequence.\n",
        "Use a for loop.\n",
        "'''\n",
        "# counter\n",
        "# for loop\n",
        "# codon (dna[i:i+3])\n",
        "\n",
        "\n",
        "\n"
      ],
      "metadata": {
        "id": "qGj8k2ukfgmf"
      },
      "execution_count": null,
      "outputs": []
    },
    {
      "cell_type": "code",
      "source": [],
      "metadata": {
        "id": "TkqWnkiNEkfb"
      },
      "execution_count": null,
      "outputs": []
    },
    {
      "cell_type": "code",
      "source": [
        "dna = 'ATCACGATGACGTGACGGATCGAGCAGTACGCC'\n",
        "\n"
      ],
      "metadata": {
        "id": "B9Lyj2twExyX"
      },
      "execution_count": null,
      "outputs": []
    },
    {
      "cell_type": "code",
      "source": [
        "counter = 0\n",
        "for i in range(len(dna)):\n",
        "  print(i)\n",
        "  if dna[i:i+3] == 'ATG':\n",
        "    counter += 1\n",
        "\n",
        "print(counter)"
      ],
      "metadata": {
        "id": "wxUrt5RqEcv0"
      },
      "execution_count": null,
      "outputs": []
    },
    {
      "cell_type": "code",
      "source": [
        "'''using a for loop and if/else statements,\n",
        "print the equivalent RNA string for the given DNA string'''\n",
        "\n",
        "# change Ts to Us\n",
        "\n",
        "# empty string'RNA'\n",
        "# for loop\n",
        "# change Ts to Us\n"
      ],
      "metadata": {
        "id": "qeiTUiWCfgje"
      },
      "execution_count": null,
      "outputs": []
    },
    {
      "cell_type": "code",
      "source": [
        "# if DNA string is: ATC\n",
        "\n",
        "# some pseudocode:\n",
        "\n",
        "#RNA = ''\n",
        "# for loop:\n",
        "  # (if T change it to U) not a line of code\n",
        "  # if nuc == 'T':\n",
        "    # RNA += 'U' # add U to our empty string\n",
        "  # else:\n",
        "      # add to RNA (not a line of code)\n",
        "      # RNA += nuc # addint to our string\n",
        "\n",
        "# the expected output of our RNA string is: AUC"
      ],
      "metadata": {
        "id": "WTW_5lpdFzPx"
      },
      "execution_count": null,
      "outputs": []
    },
    {
      "cell_type": "code",
      "source": [
        "'''\n",
        "For example, if the DNA sequence is:\n",
        "\n",
        "ACTGCC\n",
        "\n",
        "the RNA sequence is:\n",
        "\n",
        "ACUGCC\n",
        "'''"
      ],
      "metadata": {
        "id": "wGAAP_JDRNJ3"
      },
      "execution_count": null,
      "outputs": []
    },
    {
      "cell_type": "code",
      "source": [],
      "metadata": {
        "id": "mNUAQrzC9tuj"
      },
      "execution_count": null,
      "outputs": []
    },
    {
      "cell_type": "code",
      "source": [
        "'''using a for loop and if/else statements,\n",
        "print the equivalent RNA string for the given DNA string'''\n",
        "# transcribe\n",
        "\n"
      ],
      "metadata": {
        "id": "FiUT6jMi9t2y"
      },
      "execution_count": null,
      "outputs": []
    },
    {
      "cell_type": "code",
      "source": [
        "dna = input(\"Enter a DNA sequence: \").upper()\n",
        "rna = \"\"\n",
        "\n"
      ],
      "metadata": {
        "id": "ZuL08duQngSi"
      },
      "execution_count": null,
      "outputs": []
    },
    {
      "cell_type": "code",
      "source": [
        "'''print out the gene accession names that start with an 'a' '''\n",
        "\n",
        "accs = ['ab56', 'bh84', 'hv76', 'ay93', 'ap97', 'bd72']\n"
      ],
      "metadata": {
        "id": "1EM_dxcE9t2y"
      },
      "execution_count": null,
      "outputs": []
    },
    {
      "cell_type": "code",
      "source": [
        "'''this time is there a string method you can use?'''\n",
        "\n",
        "accs = ['ab56', 'bh84', 'hv76', 'ay93', 'ap97', 'bd72']\n"
      ],
      "metadata": {
        "id": "UMqIA95YfggL"
      },
      "execution_count": null,
      "outputs": []
    },
    {
      "cell_type": "code",
      "source": [
        "'''create a new list with only the accession numbers that start with an 'a' '''\n",
        "\n",
        "accs = ['ab56', 'bh84', 'hv76', 'ay93', 'ap97', 'bd72']\n",
        "\n",
        "\n",
        "\n"
      ],
      "metadata": {
        "id": "PWztHakn9t2z"
      },
      "execution_count": null,
      "outputs": []
    },
    {
      "cell_type": "code",
      "source": [
        "\n",
        "\n"
      ],
      "metadata": {
        "id": "-eCKqGz62ZkM"
      },
      "execution_count": null,
      "outputs": []
    },
    {
      "cell_type": "code",
      "source": [],
      "metadata": {
        "id": "bhdBUBG8JoF2"
      },
      "execution_count": null,
      "outputs": []
    },
    {
      "cell_type": "markdown",
      "source": [
        "<a style='text-decoration:none;line-height:16px;display:flex;color:#5B5B62;padding:10px;justify-content:end;' href='https://deepnote.com?utm_source=created-in-deepnote-cell&projectId=84cdf502-e5fa-416d-baca-a65451bf8f12' target=\"_blank\">\n",
        "<img alt='Created in deepnote.com' style='display:inline;max-height:16px;margin:0px;margin-right:7.5px;' src='data:image/svg+xml;base64,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' > </img>\n",
        "Created in <span style='font-weight:600;margin-left:4px;'>Deepnote</span></a>"
      ],
      "metadata": {
        "created_in_deepnote_cell": true,
        "deepnote_cell_type": "markdown",
        "id": "nZ1RVue46bIN"
      }
    }
  ],
  "nbformat": 4,
  "nbformat_minor": 0,
  "metadata": {
    "deepnote": {
      "is_reactive": false
    },
    "orig_nbformat": 2,
    "deepnote_notebook_id": "72755b200d804c43aa15efe9583d959b",
    "deepnote_execution_queue": [],
    "deepnote_persisted_session": {
      "createdAt": "2022-10-04T19:15:34.278Z"
    },
    "colab": {
      "provenance": [],
      "include_colab_link": true
    },
    "language_info": {
      "name": "python"
    },
    "kernelspec": {
      "name": "python3",
      "display_name": "Python 3"
    }
  }
}