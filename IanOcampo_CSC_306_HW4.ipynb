{
  "nbformat": 4,
  "nbformat_minor": 0,
  "metadata": {
    "colab": {
      "provenance": [],
      "include_colab_link": true
    },
    "kernelspec": {
      "name": "python3",
      "display_name": "Python 3"
    },
    "language_info": {
      "name": "python"
    }
  },
  "cells": [
    {
      "cell_type": "markdown",
      "metadata": {
        "id": "view-in-github",
        "colab_type": "text"
      },
      "source": [
        "<a href=\"https://colab.research.google.com/github/i4ngit/colab-week-1-hw/blob/main/IanOcampo_CSC_306_HW4.ipynb\" target=\"_parent\"><img src=\"https://colab.research.google.com/assets/colab-badge.svg\" alt=\"Open In Colab\"/></a>"
      ]
    },
    {
      "cell_type": "markdown",
      "metadata": {
        "cell_id": "22f54bdc3eed489d97e60c41b6dff20f",
        "deepnote_cell_type": "markdown",
        "id": "m0F4C2AqA_BW"
      },
      "source": [
        "# Homework 4: Review\n",
        "\n",
        "## <font color='red'>STEP 1: Duplicate this project into your personal projects, and make sure you set the sharing settings to anyone with a link as a Commenter!</font>"
      ]
    },
    {
      "cell_type": "markdown",
      "source": [
        "## Name: Ian Ocampo\n"
      ],
      "metadata": {
        "id": "2wSxNLoCzIfJ"
      }
    },
    {
      "cell_type": "markdown",
      "source": [
        "Please also add your name at the top left of the colab, for example: YourName_306_HW4.ipynb"
      ],
      "metadata": {
        "id": "dZYGFd_iJzgo"
      }
    },
    {
      "cell_type": "markdown",
      "source": [
        "PLEASE Disable AI Coding in Colab: go to the Tools menu, select Settings, then AI Assistance. In that space you'll be able to revoke consent and hide AI coding features.)"
      ],
      "metadata": {
        "id": "vQV0czCxzFuI"
      }
    },
    {
      "cell_type": "code",
      "source": [
        "'''\n",
        "Academic Integrity Statement:\n",
        "All work must be your own! If you receive support from an outside source (including online or AI tools),\n",
        "you must cite it clearly in your submission. Failure to do so may be considered academic dishonesty.\n",
        "If you are unsure whether something needs to be cited, err on the side of transparency.\n",
        "\n",
        "You can work with a partner on the HW. Please add their name(s) on this Colab.\n",
        "'''"
      ],
      "metadata": {
        "id": "OeeAm83762dX"
      },
      "execution_count": null,
      "outputs": []
    },
    {
      "cell_type": "code",
      "source": [],
      "metadata": {
        "id": "-xlvP_9Z5C3w"
      },
      "execution_count": null,
      "outputs": []
    },
    {
      "cell_type": "markdown",
      "source": [
        "# We will be using the following DNA sequence for the homework questions:"
      ],
      "metadata": {
        "id": "rNxWFip43frr"
      }
    },
    {
      "cell_type": "markdown",
      "source": [
        "Here's a stretch of ***E. coli***   DNA sequence from the **lac operon**, which contains well-known Open Reading Frames (ORFs), start codons, and stop codons. This sequence comes from the *Escherichia coli* str. K-12 substr. MG1655 genome. Specifically, this sequence is from the **lacZ** gene within the lac operon, responsible for lactose metabolism.\n",
        "\n",
        "### ***E. coli***    **lacZ Gene Sequence (Partial)**\n",
        "\n",
        "This sequence contains the **start codon (ATG)** and several codons for the **lacZ** gene:\n",
        "\n",
        "```\n",
        "ATGACCATGATTACGGATTCACTGGCCGTCGTTTTACAACGTCGTGACTGGGAAAACCCTGGCGTTACCCAACTTAATCGCCTTGCAGCACATCCCCCTTCGCCAGCTGGCGTAATAGCGAAGAGGCCCGCACCGATCGCCCTTCCCAACAGTTGCGCAGCCTGAATGGCGAATGGCGCTGGAAAGCGGGCAGTGAGCGCAACGCAATTAATGTGAGTTAGCTCACTCATTAGGCACCCCAGGCTTTACACTTTATGCTTCCGGCTCGTATAATGTGTGGAATTGTGAGCGGATAACAATTTCACACAGGAAACAGCTATGACCATGATTACGGATTCACTGGCCGTCGTTTTACAACGTCGTGACTGGGAAAACCCTGGCGTTACCCAACTTAATCGCCTTGCAGCACATCCCCCTTCGCCAGCTGGCGTAATAGCGAAGAGGCCCACACCGATCGCCCTTCCCAACAGTTGCGCAGCCTGAATGGCGAATGGCGCTGGAAAGCGGGCAGTGAGCGCAACGCAATTAATGTGAGTTAGCTCACTCATTAGGCACCCCAGGCTTTACACTTTATGCTTCCGGCTCGTATAATGTGTGGAATTGTGAGCGGATAACAATTTCACACAGGAAACAGCTATGACCATGATTACGGATTCACTGGCCGTCGTTTTACAACGTCGTGACTGGGAAAACCCTGGCGTTACCCAACTTAATCGCCTTGCAGCACATCCCCCTTCGCCAGCTGGCGTAATAGCGAAGAGGCCCACACCGATCGCCCTTCCCAACAGTTGCGCAGCCTGAATGGCGAATGGCGCTGGAAAGCGGGCAGTGAGCGCAACGCAATTAATGTGAGTTAGCTCACTCATTAGGCACCCCAGGCTTTACACTTTATGCTTCCGGCTCGTATAATGTGTGGAATTGTGAGCGGATAACAATTTCACACAGGAAACAGCTATGACCATGATTACGGATTCACTGGCCGTCGTTTTACAACGTCGTGACTGGGAAAACCCTGGCGTTACCCAACTTAATCGCCTTGCAGCACATCCCCCTTCGCCAGCTGGCGTAATAGCGAAGAGGCCCACACCGATCGCCCTTCCCAACAGTTGCGCAGCCTGAATGGCGAATGGCGCTGGAAAGCGGGCAGTGAGCGCAACGCAATTAATGTGAGTTAGCTCACTCATTAGGCACCCCAGGCTTTACACTTTATGCTTCCGGCTCGTATAATGTGTGGAATTGTGAGCGGATAACAATTTCACACAGGAAACAGCTATGACCATGATTACGGATTCACTGGCCGTCGTTTTACAACGTCGTGACTGGGAAAACCCTGGCGTTACCCAACTTAATCGCCTTGCAGCACATCCCCCTTCGCCAGCTGGCGTAATAGCGAAGAGGCCCACACCGATCGCCCTTCCCAACAGTTGCGCAGCCTGAATGGCGAATGGCGCTGGAAAGCGGGCAGTGAGCGCAACGCAATTAATGTGAGTTAGCTCACTCATTAGGCACCCCAGGCTTTACACTTTATGCTTCCGGCTCGTATAATGTGTGGAATTGTGAGCGGATAACAATTTCACACAGGAAACAGCTATGACCATGATTACGGATTCACTGGCCGTCGTTTTACAACGTCGTGACTGGGAAAACC\n",
        "```\n",
        "\n",
        "\n"
      ],
      "metadata": {
        "id": "BCNLAYMWeiYn"
      }
    },
    {
      "cell_type": "code",
      "source": [
        "# We can run the cell below to import the sequence"
      ],
      "metadata": {
        "id": "LJWE0DwqfG4o"
      },
      "execution_count": null,
      "outputs": []
    },
    {
      "cell_type": "code",
      "source": [
        "!wget https://raw.githubusercontent.com/Peziza/306/main/dna_seq.py -O dna_seq.py\n",
        "from dna_seq import *"
      ],
      "metadata": {
        "id": "ootaoDWr8N2m",
        "colab": {
          "base_uri": "https://localhost:8080/"
        },
        "outputId": "96e54f58-8526-4be5-a142-8777a8402878"
      },
      "execution_count": 2,
      "outputs": [
        {
          "output_type": "stream",
          "name": "stdout",
          "text": [
            "--2025-09-25 06:24:46--  https://raw.githubusercontent.com/Peziza/306/main/dna_seq.py\n",
            "Resolving raw.githubusercontent.com (raw.githubusercontent.com)... 185.199.110.133, 185.199.111.133, 185.199.109.133, ...\n",
            "Connecting to raw.githubusercontent.com (raw.githubusercontent.com)|185.199.110.133|:443... connected.\n",
            "HTTP request sent, awaiting response... 200 OK\n",
            "Length: 2066 (2.0K) [text/plain]\n",
            "Saving to: ‘dna_seq.py’\n",
            "\n",
            "\rdna_seq.py            0%[                    ]       0  --.-KB/s               \rdna_seq.py          100%[===================>]   2.02K  --.-KB/s    in 0s      \n",
            "\n",
            "2025-09-25 06:24:46 (23.7 MB/s) - ‘dna_seq.py’ saved [2066/2066]\n",
            "\n"
          ]
        }
      ]
    },
    {
      "cell_type": "code",
      "source": [
        "# or you can use the cell below:"
      ],
      "metadata": {
        "id": "4o5guZjZfOw_"
      },
      "execution_count": null,
      "outputs": []
    },
    {
      "cell_type": "code",
      "source": [
        "dna_seq = 'ATGACCATGATTACGGATTCACTGGCCGTCGTTTTACAACGTCGTGACTGGGAAAACCCTGGCGTTACCCAACTTAATCGCCTTGCAGCACATCCCCCTTCGCCAGCTGGCGTAATAGCGAAGAGGCCCGCACCGATCGCCCTTCCCAACAGTTGCGCAGCCTGAATGGCGAATGGCGCTGGAAAGCGGGCAGTGAGCGCAACGCAATTAATGTGAGTTAGCTCACTCATTAGGCACCCCAGGCTTTACACTTTATGCTTCCGGCTCGTATAATGTGTGGAATTGTGAGCGGATAACAATTTCACACAGGAAACAGCTATGACCATGATTACGGATTCACTGGCCGTCGTTTTACAACGTCGTGACTGGGAAAACCCTGGCGTTACCCAACTTAATCGCCTTGCAGCACATCCCCCTTCGCCAGCTGGCGTAATAGCGAAGAGGCCCACACCGATCGCCCTTCCCAACAGTTGCGCAGCCTGAATGGCGAATGGCGCTGGAAAGCGGGCAGTGAGCGCAACGCAATTAATGTGAGTTAGCTCACTCATTAGGCACCCCAGGCTTTACACTTTATGCTTCCGGCTCGTATAATGTGTGGAATTGTGAGCGGATAACAATTTCACACAGGAAACAGCTATGACCATGATTACGGATTCACTGGCCGTCGTTTTACAACGTCGTGACTGGGAAAACCCTGGCGTTACCCAACTTAATCGCCTTGCAGCACATCCCCCTTCGCCAGCTGGCGTAATAGCGAAGAGGCCCACACCGATCGCCCTTCCCAACAGTTGCGCAGCCTGAATGGCGAATGGCGCTGGAAAGCGGGCAGTGAGCGCAACGCAATTAATGTGAGTTAGCTCACTCATTAGGCACCCCAGGCTTTACACTTTATGCTTCCGGCTCGTATAATGTGTGGAATTGTGAGCGGATAACAATTTCACACAGGAAACAGCTATGACCATGATTACGGATTCACTGGCCGTCGTTTTACAACGTCGTGACTGGGAAAACCCTGGCGTTACCCAACTTAATCGCCTTGCAGCACATCCCCCTTCGCCAGCTGGCGTAATAGCGAAGAGGCCCACACCGATCGCCCTTCCCAACAGTTGCGCAGCCTGAATGGCGAATGGCGCTGGAAAGCGGGCAGTGAGCGCAACGCAATTAATGTGAGTTAGCTCACTCATTAGGCACCCCAGGCTTTACACTTTATGCTTCCGGCTCGTATAATGTGTGGAATTGTGAGCGGATAACAATTTCACACAGGAAACAGCTATGACCATGATTACGGATTCACTGGCCGTCGTTTTACAACGTCGTGACTGGGAAAACCCTGGCGTTACCCAACTTAATCGCCTTGCAGCACATCCCCCTTCGCCAGCTGGCGTAATAGCGAAGAGGCCCACACCGATCGCCCTTCCCAACAGTTGCGCAGCCTGAATGGCGAATGGCGCTGGAAAGCGGGCAGTGAGCGCAACGCAATTAATGTGAGTTAGCTCACTCATTAGGCACCCCAGGCTTTACACTTTATGCTTCCGGCTCGTATAATGTGTGGAATTGTGAGCGGATAACAATTTCACACAGGAAACAGCTATGACCATGATTACGGATTCACTGGCCGTCGTTTTACAACGTCGTGACTGGGAAAACC'\n"
      ],
      "metadata": {
        "id": "7qVjWMybAgbh"
      },
      "execution_count": 3,
      "outputs": []
    },
    {
      "cell_type": "markdown",
      "source": [
        "# 1. Print the length of the DNA sequence, and save this in a variable called 'total_length'. Print the first 80 characters, and print the last 80 characters."
      ],
      "metadata": {
        "id": "lXf2TfW9fYBu"
      }
    },
    {
      "cell_type": "code",
      "source": [
        "seq_length = len(dna_seq)\n",
        "\n",
        "# this will allow us to see how many bases are in this sequence (variable)\n",
        "print(seq_length)"
      ],
      "metadata": {
        "id": "YCGU5GhB9_Kp",
        "colab": {
          "base_uri": "https://localhost:8080/"
        },
        "outputId": "6f6417c1-cdf9-41e7-cf91-d644aedf8bdc"
      },
      "execution_count": 5,
      "outputs": [
        {
          "output_type": "stream",
          "name": "stdout",
          "text": [
            "1648\n"
          ]
        }
      ]
    },
    {
      "cell_type": "code",
      "source": [
        "# to print the first 80 characters, we can using the indexing!\n",
        "# remember that in indexing, the format will be: variable[start:stop];\n",
        "# this means that it will go up until 79th character as it will not count the stop\n",
        "\n",
        "print(dna_seq[0:80]) # will print the characters starting from 0 to 79\n",
        "\n",
        "# to check the actual number, we can wrap it with the len() function!\n",
        "print(len(dna_seq[0:80]))"
      ],
      "metadata": {
        "id": "2zNgZsm03que",
        "colab": {
          "base_uri": "https://localhost:8080/"
        },
        "outputId": "ab30885f-2463-4ede-fca3-109b5ce3cc5e"
      },
      "execution_count": 15,
      "outputs": [
        {
          "output_type": "stream",
          "name": "stdout",
          "text": [
            "ATGACCATGATTACGGATTCACTGGCCGTCGTTTTACAACGTCGTGACTGGGAAAACCCTGGCGTTACCCAACTTAATCG\n",
            "80\n"
          ]
        }
      ]
    },
    {
      "cell_type": "code",
      "source": [
        "# at the top we printed the first 80 bases, now we can do the last 80 by\n",
        "# working in reverse or using negative indexes!\n",
        "\n",
        "print(dna_seq[-80:]) # note that ':' with nothing after means is to \"go all the way to the end\"\n",
        "# the -80 indicate that we are in the opposite end of the string or the sequence which means to start 80 characters from the end\n",
        "\n",
        "\n",
        "# now lets verify it!\n",
        "print(len(dna_seq[-80:])) # this should be the last 80 nucleotides of the sequence!"
      ],
      "metadata": {
        "id": "bBNjObf03qry",
        "colab": {
          "base_uri": "https://localhost:8080/"
        },
        "outputId": "813927f1-d3fc-4397-9e0b-d482cd9f33e8"
      },
      "execution_count": 25,
      "outputs": [
        {
          "output_type": "stream",
          "name": "stdout",
          "text": [
            "CAATTTCACACAGGAAACAGCTATGACCATGATTACGGATTCACTGGCCGTCGTTTTACAACGTCGTGACTGGGAAAACC\n",
            "80\n"
          ]
        }
      ]
    },
    {
      "cell_type": "markdown",
      "source": [
        "# 2. Count the number of As, Ts, Cs, and Gs that are in the sequence using a for loop and counters. Do not use the .count() method\n",
        "\n",
        "\n"
      ],
      "metadata": {
        "id": "MxqwkJmCgEA6"
      }
    },
    {
      "cell_type": "code",
      "source": [
        "# first we need to set an initial counter variable to store it to 0!\n",
        "seq_countA = 0\n",
        "seq_countG = 0\n",
        "seq_countC = 0\n",
        "seq_countT = 0\n",
        "\n",
        "# using a loop and a counter below to make conditional statement\n",
        "# we can use 'i' which translates to index for counting the\n",
        "# bases\n",
        "\n",
        "for i in dna_seq:\n",
        "  if i == 'A':\n",
        "    seq_countA += 1\n",
        "  elif i == 'C':\n",
        "    seq_countC += 1\n",
        "  elif i == 'T':\n",
        "    seq_countT += 1\n",
        "  else:\n",
        "    seq_countG += 1\n",
        "\n",
        "# then we can print to check, we can use f-string:\n",
        "print(f\"The base count for 'G'\", seq_countG)\n",
        "print(f\"The base count for 'T'\", seq_countT)\n",
        "print(f\"The base count for 'A'\", seq_countA)\n",
        "print(f\"The base count for 'C'\", seq_countC)"
      ],
      "metadata": {
        "id": "RM1cTHij331j",
        "colab": {
          "base_uri": "https://localhost:8080/"
        },
        "outputId": "e8b51059-0dd6-4eb8-c01a-7e0edc180c3f"
      },
      "execution_count": 28,
      "outputs": [
        {
          "output_type": "stream",
          "name": "stdout",
          "text": [
            "The base count for 'G' 405\n",
            "The base count for 'T' 375\n",
            "The base count for 'A' 414\n",
            "The base count for 'C' 454\n"
          ]
        }
      ]
    },
    {
      "cell_type": "markdown",
      "source": [
        "### OPTIONAL Bonus Challenges:\n",
        "- Ask the user for a DNA sequence, and ensure the input sequence is coverted to uppercase (using a method).\n",
        "- Check if the input contains only valid DNA characters (A, T, C, G). If any invalid characters are found, print a message to the user."
      ],
      "metadata": {
        "id": "e4OGR0h069dA"
      }
    },
    {
      "cell_type": "code",
      "source": [
        "# Welcome! How about we play a game!\n",
        "DNAgame = str(input('Please enter a DNA sequence that is at least 10 nucleotides long')).upper()\n",
        "\n",
        "# conditional statement if <10 nucleotides\n",
        "if DNAgame <= 10:\n",
        "  print('404 Error! Please try again')\n",
        "else:\n",
        "  print('Great! Lets proceed!')"
      ],
      "metadata": {
        "id": "jGib_RWp-EoG",
        "colab": {
          "base_uri": "https://localhost:8080/",
          "height": 233
        },
        "outputId": "39dca8a8-8dcf-4ecc-d3b2-e73ad05fcd84"
      },
      "execution_count": 30,
      "outputs": [
        {
          "name": "stdout",
          "output_type": "stream",
          "text": [
            "Please enter a DNA sequence that is at least 10 nucleotides longafdasjkfbsafkjsbf\n"
          ]
        },
        {
          "output_type": "error",
          "ename": "TypeError",
          "evalue": "'<=' not supported between instances of 'str' and 'int'",
          "traceback": [
            "\u001b[0;31m---------------------------------------------------------------------------\u001b[0m",
            "\u001b[0;31mTypeError\u001b[0m                                 Traceback (most recent call last)",
            "\u001b[0;32m/tmp/ipython-input-1232329887.py\u001b[0m in \u001b[0;36m<cell line: 0>\u001b[0;34m()\u001b[0m\n\u001b[1;32m      3\u001b[0m \u001b[0;34m\u001b[0m\u001b[0m\n\u001b[1;32m      4\u001b[0m \u001b[0;31m# conditional statement if <10 nucleotides\u001b[0m\u001b[0;34m\u001b[0m\u001b[0;34m\u001b[0m\u001b[0m\n\u001b[0;32m----> 5\u001b[0;31m \u001b[0;32mif\u001b[0m \u001b[0mDNAgame\u001b[0m \u001b[0;34m<=\u001b[0m \u001b[0;36m10\u001b[0m\u001b[0;34m:\u001b[0m\u001b[0;34m\u001b[0m\u001b[0;34m\u001b[0m\u001b[0m\n\u001b[0m\u001b[1;32m      6\u001b[0m   \u001b[0mprint\u001b[0m\u001b[0;34m(\u001b[0m\u001b[0;34m'404 Error! Please try again'\u001b[0m\u001b[0;34m)\u001b[0m\u001b[0;34m\u001b[0m\u001b[0;34m\u001b[0m\u001b[0m\n\u001b[1;32m      7\u001b[0m \u001b[0;32melse\u001b[0m\u001b[0;34m:\u001b[0m\u001b[0;34m\u001b[0m\u001b[0;34m\u001b[0m\u001b[0m\n",
            "\u001b[0;31mTypeError\u001b[0m: '<=' not supported between instances of 'str' and 'int'"
          ]
        }
      ]
    },
    {
      "cell_type": "markdown",
      "source": [
        "# 3. Calcuate the nucleotide percentages for each nucleotide and print the results.\n"
      ],
      "metadata": {
        "id": "dYT_8000i6_w"
      }
    },
    {
      "cell_type": "code",
      "source": [
        "# create a variable for each nucleotide\n",
        "nucA_percentage = (seq_countA / len(dna_seq) * 100)\n",
        "nucT_percentage = (seq_countT / len(dna_seq) * 100)\n",
        "nucG_percentage = (seq_countG / len(dna_seq) * 100)\n",
        "nucC_percentage = (seq_countC / len(dna_seq) * 100)\n",
        "\n",
        "# print the results\n",
        "print(f\"The percentage of 'A' nucleotide is {nucA_percentage}%\")\n",
        "print(f\"The percentage of 'T' nucleotide is {nucT_percentage}%\")\n",
        "print(f\"The percentage of 'G' nucleotide is {nucG_percentage}%\")\n",
        "print(f\"The percentage of 'C' nucleotide is {nucC_percentage}%\")"
      ],
      "metadata": {
        "id": "fxdtFnYxjCvK",
        "colab": {
          "base_uri": "https://localhost:8080/"
        },
        "outputId": "bdd528c7-cbe7-4e5d-e1f9-9610b5dfe4dc"
      },
      "execution_count": 36,
      "outputs": [
        {
          "output_type": "stream",
          "name": "stdout",
          "text": [
            "The percentage of 'A' nucleotide is 25.12135922330097%\n",
            "The percentage of 'T' nucleotide is 22.75485436893204%\n",
            "The percentage of 'G' nucleotide is 24.575242718446603%\n",
            "The percentage of 'C' nucleotide is 27.548543689320386%\n"
          ]
        }
      ]
    },
    {
      "cell_type": "code",
      "source": [],
      "metadata": {
        "id": "8FX2U-nHknuH"
      },
      "execution_count": null,
      "outputs": []
    },
    {
      "cell_type": "markdown",
      "source": [
        "### OPTIONAL Bonus Challenges:\n",
        "- Use a for loop to print the results/statements. (To clarify, this is JUST for printing out the results/print statements!)\n",
        "\n",
        "Hints: Create two lists: one with nucleotides, and another with their corresponding percentage variables.\n",
        "\n",
        "Use a for loop and the range() function to access elelments from both lists based on their index. The for loop will iterate over the indices of the lists, accessing the nucleotide and it's corresponding percentage using their position in the lists. (You can also include a fstring.)"
      ],
      "metadata": {
        "id": "pRdoEVTV7cg3"
      }
    },
    {
      "cell_type": "code",
      "source": [],
      "metadata": {
        "id": "CAhkaoZfooLf"
      },
      "execution_count": null,
      "outputs": []
    },
    {
      "cell_type": "markdown",
      "source": [
        "#4. Write a program that will return an RNA string from a given DNA string. Use a for loop to iterate over the DNA sequence. Use if/else statements to replace the nucleotide 'T' with 'U' to create the RNA sequence.\n",
        "\n",
        "Note: DNA is double-stranded, but in programming, it's common to work with the top strand/coding strand, known as the sense strand, in the 5' to 3' direction. Although transcription occurs on the bottom strand, or template strand, we are focusing on the sense strand.\n",
        "\n",
        "Therefore, if the given DNA sequence is 'ACTGCC', the corresponding RNA sequence would be 'ACUGCC'"
      ],
      "metadata": {
        "id": "CHGGUCNPouom"
      }
    },
    {
      "cell_type": "code",
      "source": [
        "# do an empty string;\n",
        "# remember that an emtpy string represents as a starting point,\n",
        "# this is to build an RNA sequence inside a loop\n",
        "rna_seq = \"\"\n",
        "\n",
        "# lets create a loop variable with statement\n",
        "for i in dna_seq:\n",
        "  if i == 'T':\n",
        "    rna_seq += 'U'\n",
        "  else:\n",
        "    rna_seq += i\n",
        "\n",
        "# lets print both to do a comparison of DNA and RNA sequence!\n",
        "print(\"DNA:\", dna_seq)\n",
        "print(\"RNA:\", rna_seq)"
      ],
      "metadata": {
        "id": "2F38kxaY9AmN",
        "colab": {
          "base_uri": "https://localhost:8080/"
        },
        "outputId": "67422e81-18f6-4761-fc60-87681f734801"
      },
      "execution_count": 42,
      "outputs": [
        {
          "output_type": "stream",
          "name": "stdout",
          "text": [
            "DNA: ATGACCATGATTACGGATTCACTGGCCGTCGTTTTACAACGTCGTGACTGGGAAAACCCTGGCGTTACCCAACTTAATCGCCTTGCAGCACATCCCCCTTCGCCAGCTGGCGTAATAGCGAAGAGGCCCGCACCGATCGCCCTTCCCAACAGTTGCGCAGCCTGAATGGCGAATGGCGCTGGAAAGCGGGCAGTGAGCGCAACGCAATTAATGTGAGTTAGCTCACTCATTAGGCACCCCAGGCTTTACACTTTATGCTTCCGGCTCGTATAATGTGTGGAATTGTGAGCGGATAACAATTTCACACAGGAAACAGCTATGACCATGATTACGGATTCACTGGCCGTCGTTTTACAACGTCGTGACTGGGAAAACCCTGGCGTTACCCAACTTAATCGCCTTGCAGCACATCCCCCTTCGCCAGCTGGCGTAATAGCGAAGAGGCCCACACCGATCGCCCTTCCCAACAGTTGCGCAGCCTGAATGGCGAATGGCGCTGGAAAGCGGGCAGTGAGCGCAACGCAATTAATGTGAGTTAGCTCACTCATTAGGCACCCCAGGCTTTACACTTTATGCTTCCGGCTCGTATAATGTGTGGAATTGTGAGCGGATAACAATTTCACACAGGAAACAGCTATGACCATGATTACGGATTCACTGGCCGTCGTTTTACAACGTCGTGACTGGGAAAACCCTGGCGTTACCCAACTTAATCGCCTTGCAGCACATCCCCCTTCGCCAGCTGGCGTAATAGCGAAGAGGCCCACACCGATCGCCCTTCCCAACAGTTGCGCAGCCTGAATGGCGAATGGCGCTGGAAAGCGGGCAGTGAGCGCAACGCAATTAATGTGAGTTAGCTCACTCATTAGGCACCCCAGGCTTTACACTTTATGCTTCCGGCTCGTATAATGTGTGGAATTGTGAGCGGATAACAATTTCACACAGGAAACAGCTATGACCATGATTACGGATTCACTGGCCGTCGTTTTACAACGTCGTGACTGGGAAAACCCTGGCGTTACCCAACTTAATCGCCTTGCAGCACATCCCCCTTCGCCAGCTGGCGTAATAGCGAAGAGGCCCACACCGATCGCCCTTCCCAACAGTTGCGCAGCCTGAATGGCGAATGGCGCTGGAAAGCGGGCAGTGAGCGCAACGCAATTAATGTGAGTTAGCTCACTCATTAGGCACCCCAGGCTTTACACTTTATGCTTCCGGCTCGTATAATGTGTGGAATTGTGAGCGGATAACAATTTCACACAGGAAACAGCTATGACCATGATTACGGATTCACTGGCCGTCGTTTTACAACGTCGTGACTGGGAAAACCCTGGCGTTACCCAACTTAATCGCCTTGCAGCACATCCCCCTTCGCCAGCTGGCGTAATAGCGAAGAGGCCCACACCGATCGCCCTTCCCAACAGTTGCGCAGCCTGAATGGCGAATGGCGCTGGAAAGCGGGCAGTGAGCGCAACGCAATTAATGTGAGTTAGCTCACTCATTAGGCACCCCAGGCTTTACACTTTATGCTTCCGGCTCGTATAATGTGTGGAATTGTGAGCGGATAACAATTTCACACAGGAAACAGCTATGACCATGATTACGGATTCACTGGCCGTCGTTTTACAACGTCGTGACTGGGAAAACC\n",
            "RNA: AUGACCAUGAUUACGGAUUCACUGGCCGUCGUUUUACAACGUCGUGACUGGGAAAACCCUGGCGUUACCCAACUUAAUCGCCUUGCAGCACAUCCCCCUUCGCCAGCUGGCGUAAUAGCGAAGAGGCCCGCACCGAUCGCCCUUCCCAACAGUUGCGCAGCCUGAAUGGCGAAUGGCGCUGGAAAGCGGGCAGUGAGCGCAACGCAAUUAAUGUGAGUUAGCUCACUCAUUAGGCACCCCAGGCUUUACACUUUAUGCUUCCGGCUCGUAUAAUGUGUGGAAUUGUGAGCGGAUAACAAUUUCACACAGGAAACAGCUAUGACCAUGAUUACGGAUUCACUGGCCGUCGUUUUACAACGUCGUGACUGGGAAAACCCUGGCGUUACCCAACUUAAUCGCCUUGCAGCACAUCCCCCUUCGCCAGCUGGCGUAAUAGCGAAGAGGCCCACACCGAUCGCCCUUCCCAACAGUUGCGCAGCCUGAAUGGCGAAUGGCGCUGGAAAGCGGGCAGUGAGCGCAACGCAAUUAAUGUGAGUUAGCUCACUCAUUAGGCACCCCAGGCUUUACACUUUAUGCUUCCGGCUCGUAUAAUGUGUGGAAUUGUGAGCGGAUAACAAUUUCACACAGGAAACAGCUAUGACCAUGAUUACGGAUUCACUGGCCGUCGUUUUACAACGUCGUGACUGGGAAAACCCUGGCGUUACCCAACUUAAUCGCCUUGCAGCACAUCCCCCUUCGCCAGCUGGCGUAAUAGCGAAGAGGCCCACACCGAUCGCCCUUCCCAACAGUUGCGCAGCCUGAAUGGCGAAUGGCGCUGGAAAGCGGGCAGUGAGCGCAACGCAAUUAAUGUGAGUUAGCUCACUCAUUAGGCACCCCAGGCUUUACACUUUAUGCUUCCGGCUCGUAUAAUGUGUGGAAUUGUGAGCGGAUAACAAUUUCACACAGGAAACAGCUAUGACCAUGAUUACGGAUUCACUGGCCGUCGUUUUACAACGUCGUGACUGGGAAAACCCUGGCGUUACCCAACUUAAUCGCCUUGCAGCACAUCCCCCUUCGCCAGCUGGCGUAAUAGCGAAGAGGCCCACACCGAUCGCCCUUCCCAACAGUUGCGCAGCCUGAAUGGCGAAUGGCGCUGGAAAGCGGGCAGUGAGCGCAACGCAAUUAAUGUGAGUUAGCUCACUCAUUAGGCACCCCAGGCUUUACACUUUAUGCUUCCGGCUCGUAUAAUGUGUGGAAUUGUGAGCGGAUAACAAUUUCACACAGGAAACAGCUAUGACCAUGAUUACGGAUUCACUGGCCGUCGUUUUACAACGUCGUGACUGGGAAAACCCUGGCGUUACCCAACUUAAUCGCCUUGCAGCACAUCCCCCUUCGCCAGCUGGCGUAAUAGCGAAGAGGCCCACACCGAUCGCCCUUCCCAACAGUUGCGCAGCCUGAAUGGCGAAUGGCGCUGGAAAGCGGGCAGUGAGCGCAACGCAAUUAAUGUGAGUUAGCUCACUCAUUAGGCACCCCAGGCUUUACACUUUAUGCUUCCGGCUCGUAUAAUGUGUGGAAUUGUGAGCGGAUAACAAUUUCACACAGGAAACAGCUAUGACCAUGAUUACGGAUUCACUGGCCGUCGUUUUACAACGUCGUGACUGGGAAAACC\n"
          ]
        }
      ]
    },
    {
      "cell_type": "code",
      "source": [],
      "metadata": {
        "id": "B4CTZu_z6d5f"
      },
      "execution_count": null,
      "outputs": []
    },
    {
      "cell_type": "markdown",
      "source": [
        "#5. Write a program to count the number of start codons ```ATG```, and stop codons, ```TAA```, ```TAG```, ```TGA``` (individually) in our sequence. Use a for loop and counters for the start and stop codons."
      ],
      "metadata": {
        "id": "5T6dx4rhvs8P"
      }
    },
    {
      "cell_type": "markdown",
      "source": [
        "We are only focusing on one reading frame here (and not all three reading frames of our DNA sequence)."
      ],
      "metadata": {
        "id": "EedenNjM0wRy"
      }
    },
    {
      "cell_type": "code",
      "source": [
        "# again the initial counters here, except this time, its a codon:\n",
        "TAA_count = 0\n",
        "ATG_count = 0\n",
        "TAG_count = 0\n",
        "TGA_count = 0\n",
        "\n",
        "# lets do a conditional loop\n",
        "for i in range(0, len(dna_seq), 3):\n",
        "  codon = dna_seq[i:i+3]\n",
        "  print(codon)\n",
        "  #print(i)\n",
        "\n",
        "  # now lets do conditional statement: if, elif, and else\n",
        "  if codon == 'TAA':\n",
        "    TAA_count += 1\n",
        "  elif codon == 'ATG':\n",
        "    ATG_count += 1\n",
        "  elif codon == 'TAG':\n",
        "    TAG_count += 1\n",
        "  elif codon == 'TGA':\n",
        "    TGA_count += 1\n",
        "\n",
        "# results from the conditional loop using an f-string\n",
        "print(\"The total start codon is:\", ATG_count)\n",
        "print(\"The total stop codon (TAA) is:\", TAA_count)\n",
        "print(\"The total stop codon (TAG) is:\", TAG_count)\n",
        "print(\"The total stop codon (TGA) is:\", TGA_count)"
      ],
      "metadata": {
        "id": "uvW1dg7suUL_",
        "colab": {
          "base_uri": "https://localhost:8080/"
        },
        "outputId": "45fcaee5-740f-49f8-f8a6-bdbc4d6c8168"
      },
      "execution_count": 69,
      "outputs": [
        {
          "output_type": "stream",
          "name": "stdout",
          "text": [
            "ATG\n",
            "ACC\n",
            "ATG\n",
            "ATT\n",
            "ACG\n",
            "GAT\n",
            "TCA\n",
            "CTG\n",
            "GCC\n",
            "GTC\n",
            "GTT\n",
            "TTA\n",
            "CAA\n",
            "CGT\n",
            "CGT\n",
            "GAC\n",
            "TGG\n",
            "GAA\n",
            "AAC\n",
            "CCT\n",
            "GGC\n",
            "GTT\n",
            "ACC\n",
            "CAA\n",
            "CTT\n",
            "AAT\n",
            "CGC\n",
            "CTT\n",
            "GCA\n",
            "GCA\n",
            "CAT\n",
            "CCC\n",
            "CCT\n",
            "TCG\n",
            "CCA\n",
            "GCT\n",
            "GGC\n",
            "GTA\n",
            "ATA\n",
            "GCG\n",
            "AAG\n",
            "AGG\n",
            "CCC\n",
            "GCA\n",
            "CCG\n",
            "ATC\n",
            "GCC\n",
            "CTT\n",
            "CCC\n",
            "AAC\n",
            "AGT\n",
            "TGC\n",
            "GCA\n",
            "GCC\n",
            "TGA\n",
            "ATG\n",
            "GCG\n",
            "AAT\n",
            "GGC\n",
            "GCT\n",
            "GGA\n",
            "AAG\n",
            "CGG\n",
            "GCA\n",
            "GTG\n",
            "AGC\n",
            "GCA\n",
            "ACG\n",
            "CAA\n",
            "TTA\n",
            "ATG\n",
            "TGA\n",
            "GTT\n",
            "AGC\n",
            "TCA\n",
            "CTC\n",
            "ATT\n",
            "AGG\n",
            "CAC\n",
            "CCC\n",
            "AGG\n",
            "CTT\n",
            "TAC\n",
            "ACT\n",
            "TTA\n",
            "TGC\n",
            "TTC\n",
            "CGG\n",
            "CTC\n",
            "GTA\n",
            "TAA\n",
            "TGT\n",
            "GTG\n",
            "GAA\n",
            "TTG\n",
            "TGA\n",
            "GCG\n",
            "GAT\n",
            "AAC\n",
            "AAT\n",
            "TTC\n",
            "ACA\n",
            "CAG\n",
            "GAA\n",
            "ACA\n",
            "GCT\n",
            "ATG\n",
            "ACC\n",
            "ATG\n",
            "ATT\n",
            "ACG\n",
            "GAT\n",
            "TCA\n",
            "CTG\n",
            "GCC\n",
            "GTC\n",
            "GTT\n",
            "TTA\n",
            "CAA\n",
            "CGT\n",
            "CGT\n",
            "GAC\n",
            "TGG\n",
            "GAA\n",
            "AAC\n",
            "CCT\n",
            "GGC\n",
            "GTT\n",
            "ACC\n",
            "CAA\n",
            "CTT\n",
            "AAT\n",
            "CGC\n",
            "CTT\n",
            "GCA\n",
            "GCA\n",
            "CAT\n",
            "CCC\n",
            "CCT\n",
            "TCG\n",
            "CCA\n",
            "GCT\n",
            "GGC\n",
            "GTA\n",
            "ATA\n",
            "GCG\n",
            "AAG\n",
            "AGG\n",
            "CCC\n",
            "ACA\n",
            "CCG\n",
            "ATC\n",
            "GCC\n",
            "CTT\n",
            "CCC\n",
            "AAC\n",
            "AGT\n",
            "TGC\n",
            "GCA\n",
            "GCC\n",
            "TGA\n",
            "ATG\n",
            "GCG\n",
            "AAT\n",
            "GGC\n",
            "GCT\n",
            "GGA\n",
            "AAG\n",
            "CGG\n",
            "GCA\n",
            "GTG\n",
            "AGC\n",
            "GCA\n",
            "ACG\n",
            "CAA\n",
            "TTA\n",
            "ATG\n",
            "TGA\n",
            "GTT\n",
            "AGC\n",
            "TCA\n",
            "CTC\n",
            "ATT\n",
            "AGG\n",
            "CAC\n",
            "CCC\n",
            "AGG\n",
            "CTT\n",
            "TAC\n",
            "ACT\n",
            "TTA\n",
            "TGC\n",
            "TTC\n",
            "CGG\n",
            "CTC\n",
            "GTA\n",
            "TAA\n",
            "TGT\n",
            "GTG\n",
            "GAA\n",
            "TTG\n",
            "TGA\n",
            "GCG\n",
            "GAT\n",
            "AAC\n",
            "AAT\n",
            "TTC\n",
            "ACA\n",
            "CAG\n",
            "GAA\n",
            "ACA\n",
            "GCT\n",
            "ATG\n",
            "ACC\n",
            "ATG\n",
            "ATT\n",
            "ACG\n",
            "GAT\n",
            "TCA\n",
            "CTG\n",
            "GCC\n",
            "GTC\n",
            "GTT\n",
            "TTA\n",
            "CAA\n",
            "CGT\n",
            "CGT\n",
            "GAC\n",
            "TGG\n",
            "GAA\n",
            "AAC\n",
            "CCT\n",
            "GGC\n",
            "GTT\n",
            "ACC\n",
            "CAA\n",
            "CTT\n",
            "AAT\n",
            "CGC\n",
            "CTT\n",
            "GCA\n",
            "GCA\n",
            "CAT\n",
            "CCC\n",
            "CCT\n",
            "TCG\n",
            "CCA\n",
            "GCT\n",
            "GGC\n",
            "GTA\n",
            "ATA\n",
            "GCG\n",
            "AAG\n",
            "AGG\n",
            "CCC\n",
            "ACA\n",
            "CCG\n",
            "ATC\n",
            "GCC\n",
            "CTT\n",
            "CCC\n",
            "AAC\n",
            "AGT\n",
            "TGC\n",
            "GCA\n",
            "GCC\n",
            "TGA\n",
            "ATG\n",
            "GCG\n",
            "AAT\n",
            "GGC\n",
            "GCT\n",
            "GGA\n",
            "AAG\n",
            "CGG\n",
            "GCA\n",
            "GTG\n",
            "AGC\n",
            "GCA\n",
            "ACG\n",
            "CAA\n",
            "TTA\n",
            "ATG\n",
            "TGA\n",
            "GTT\n",
            "AGC\n",
            "TCA\n",
            "CTC\n",
            "ATT\n",
            "AGG\n",
            "CAC\n",
            "CCC\n",
            "AGG\n",
            "CTT\n",
            "TAC\n",
            "ACT\n",
            "TTA\n",
            "TGC\n",
            "TTC\n",
            "CGG\n",
            "CTC\n",
            "GTA\n",
            "TAA\n",
            "TGT\n",
            "GTG\n",
            "GAA\n",
            "TTG\n",
            "TGA\n",
            "GCG\n",
            "GAT\n",
            "AAC\n",
            "AAT\n",
            "TTC\n",
            "ACA\n",
            "CAG\n",
            "GAA\n",
            "ACA\n",
            "GCT\n",
            "ATG\n",
            "ACC\n",
            "ATG\n",
            "ATT\n",
            "ACG\n",
            "GAT\n",
            "TCA\n",
            "CTG\n",
            "GCC\n",
            "GTC\n",
            "GTT\n",
            "TTA\n",
            "CAA\n",
            "CGT\n",
            "CGT\n",
            "GAC\n",
            "TGG\n",
            "GAA\n",
            "AAC\n",
            "CCT\n",
            "GGC\n",
            "GTT\n",
            "ACC\n",
            "CAA\n",
            "CTT\n",
            "AAT\n",
            "CGC\n",
            "CTT\n",
            "GCA\n",
            "GCA\n",
            "CAT\n",
            "CCC\n",
            "CCT\n",
            "TCG\n",
            "CCA\n",
            "GCT\n",
            "GGC\n",
            "GTA\n",
            "ATA\n",
            "GCG\n",
            "AAG\n",
            "AGG\n",
            "CCC\n",
            "ACA\n",
            "CCG\n",
            "ATC\n",
            "GCC\n",
            "CTT\n",
            "CCC\n",
            "AAC\n",
            "AGT\n",
            "TGC\n",
            "GCA\n",
            "GCC\n",
            "TGA\n",
            "ATG\n",
            "GCG\n",
            "AAT\n",
            "GGC\n",
            "GCT\n",
            "GGA\n",
            "AAG\n",
            "CGG\n",
            "GCA\n",
            "GTG\n",
            "AGC\n",
            "GCA\n",
            "ACG\n",
            "CAA\n",
            "TTA\n",
            "ATG\n",
            "TGA\n",
            "GTT\n",
            "AGC\n",
            "TCA\n",
            "CTC\n",
            "ATT\n",
            "AGG\n",
            "CAC\n",
            "CCC\n",
            "AGG\n",
            "CTT\n",
            "TAC\n",
            "ACT\n",
            "TTA\n",
            "TGC\n",
            "TTC\n",
            "CGG\n",
            "CTC\n",
            "GTA\n",
            "TAA\n",
            "TGT\n",
            "GTG\n",
            "GAA\n",
            "TTG\n",
            "TGA\n",
            "GCG\n",
            "GAT\n",
            "AAC\n",
            "AAT\n",
            "TTC\n",
            "ACA\n",
            "CAG\n",
            "GAA\n",
            "ACA\n",
            "GCT\n",
            "ATG\n",
            "ACC\n",
            "ATG\n",
            "ATT\n",
            "ACG\n",
            "GAT\n",
            "TCA\n",
            "CTG\n",
            "GCC\n",
            "GTC\n",
            "GTT\n",
            "TTA\n",
            "CAA\n",
            "CGT\n",
            "CGT\n",
            "GAC\n",
            "TGG\n",
            "GAA\n",
            "AAC\n",
            "CCT\n",
            "GGC\n",
            "GTT\n",
            "ACC\n",
            "CAA\n",
            "CTT\n",
            "AAT\n",
            "CGC\n",
            "CTT\n",
            "GCA\n",
            "GCA\n",
            "CAT\n",
            "CCC\n",
            "CCT\n",
            "TCG\n",
            "CCA\n",
            "GCT\n",
            "GGC\n",
            "GTA\n",
            "ATA\n",
            "GCG\n",
            "AAG\n",
            "AGG\n",
            "CCC\n",
            "ACA\n",
            "CCG\n",
            "ATC\n",
            "GCC\n",
            "CTT\n",
            "CCC\n",
            "AAC\n",
            "AGT\n",
            "TGC\n",
            "GCA\n",
            "GCC\n",
            "TGA\n",
            "ATG\n",
            "GCG\n",
            "AAT\n",
            "GGC\n",
            "GCT\n",
            "GGA\n",
            "AAG\n",
            "CGG\n",
            "GCA\n",
            "GTG\n",
            "AGC\n",
            "GCA\n",
            "ACG\n",
            "CAA\n",
            "TTA\n",
            "ATG\n",
            "TGA\n",
            "GTT\n",
            "AGC\n",
            "TCA\n",
            "CTC\n",
            "ATT\n",
            "AGG\n",
            "CAC\n",
            "CCC\n",
            "AGG\n",
            "CTT\n",
            "TAC\n",
            "ACT\n",
            "TTA\n",
            "TGC\n",
            "TTC\n",
            "CGG\n",
            "CTC\n",
            "GTA\n",
            "TAA\n",
            "TGT\n",
            "GTG\n",
            "GAA\n",
            "TTG\n",
            "TGA\n",
            "GCG\n",
            "GAT\n",
            "AAC\n",
            "AAT\n",
            "TTC\n",
            "ACA\n",
            "CAG\n",
            "GAA\n",
            "ACA\n",
            "GCT\n",
            "ATG\n",
            "ACC\n",
            "ATG\n",
            "ATT\n",
            "ACG\n",
            "GAT\n",
            "TCA\n",
            "CTG\n",
            "GCC\n",
            "GTC\n",
            "GTT\n",
            "TTA\n",
            "CAA\n",
            "CGT\n",
            "CGT\n",
            "GAC\n",
            "TGG\n",
            "GAA\n",
            "AAC\n",
            "C\n",
            "The total start codon is: 22\n",
            "The total stop codon (TAA) is: 5\n",
            "The total stop codon (TAG) is: 0\n",
            "The total stop codon (TGA) is: 15\n"
          ]
        }
      ]
    },
    {
      "cell_type": "code",
      "source": [],
      "metadata": {
        "id": "VQzHFzgNxYE8"
      },
      "execution_count": null,
      "outputs": []
    },
    {
      "cell_type": "markdown",
      "source": [
        "# OPTIONAL Challenge: Take two DNA strings of the same length and return the number of positions at which they differ. (Not graded, but please try!)"
      ],
      "metadata": {
        "id": "gbpJ_kL52MR0"
      }
    },
    {
      "cell_type": "code",
      "source": [
        "dna1 = 'ATCACGATGACGTGACGGATCGAGCAGTACGCC'\n",
        "dna2 = 'ATGTACTAGGATCCCGGATCTTATGCCGTGGCC'"
      ],
      "metadata": {
        "id": "xcZZ9WRxo_Fq"
      },
      "execution_count": null,
      "outputs": []
    },
    {
      "cell_type": "code",
      "source": [
        "# Pseudocode:\n"
      ],
      "metadata": {
        "id": "DOkaxxMh4pYV"
      },
      "execution_count": null,
      "outputs": []
    },
    {
      "cell_type": "code",
      "source": [],
      "metadata": {
        "id": "4Tp8hvID4pTd"
      },
      "execution_count": null,
      "outputs": []
    },
    {
      "cell_type": "code",
      "source": [],
      "metadata": {
        "id": "I1Vg2Zdy4pPu"
      },
      "execution_count": null,
      "outputs": []
    },
    {
      "cell_type": "code",
      "source": [],
      "metadata": {
        "id": "IskUbIOL4pL-"
      },
      "execution_count": null,
      "outputs": []
    },
    {
      "cell_type": "code",
      "source": [],
      "metadata": {
        "id": "pRyISwEpFhSZ"
      },
      "execution_count": null,
      "outputs": []
    },
    {
      "cell_type": "markdown",
      "source": [
        "Source:\n",
        "This sequence is part of the *E. coli* K-12 strain and can be found in the NCBI Reference Sequence Database under NCBI Accession Number: NC_000913.3. The lacZ gene encodes β-galactosidase, which is a key enzyme in lactose metabolism.\n",
        "\n",
        "You can find the full genome and specific annotations on NCBI's website: [NCBI E. coli Genome](https://www.ncbi.nlm.nih.gov/nuccore/NC_000913.3).\n"
      ],
      "metadata": {
        "id": "0jUhlRD1fAyO"
      }
    }
  ]
}